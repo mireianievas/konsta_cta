{
 "cells": [
  {
   "cell_type": "code",
   "execution_count": 1,
   "metadata": {},
   "outputs": [],
   "source": [
    "from ctapipe.io.hessio import hessio_event_source\n",
    "from ctapipe.io import event_source\n",
    "\n",
    "from ctapipe.calib.camera import calibrator\n",
    "import sys\n",
    "import os\n",
    "from os.path import expandvars\n",
    "\n",
    "import numpy as np\n",
    "import h5py\n",
    "import multiprocessing\n",
    "from datetime import datetime\n",
    "from ctapipe.image import NullWaveformCleaner, CHECMWaveformCleanerAverage, CHECMWaveformCleanerLocal\n",
    "from ctapipe.image import FullIntegrator, SimpleIntegrator, GlobalPeakIntegrator, LocalPeakIntegrator, NeighbourPeakIntegrator, AverageWfPeakIntegrator\n",
    "from ctapipe.image import tailcuts_clean, hillas_parameters\n",
    "from ctapipe.reco import HillasReconstructor\n",
    "from ctapipe.utils import datasets, linalg\n",
    "from astropy import units as u\n",
    "#from tqdm import tqdm\n",
    "\n",
    "from datetime import datetime as time"
   ]
  },
  {
   "cell_type": "code",
   "execution_count": 2,
   "metadata": {},
   "outputs": [],
   "source": [
    "from konsta_cta.readdata import FileReader"
   ]
  },
  {
   "cell_type": "code",
   "execution_count": 3,
   "metadata": {},
   "outputs": [],
   "source": [
    "protons = FileReader(\"proton\", directory=\"~/CTAPIPE/\")\n",
    "electron = FileReader(\"electron\", directory=\"~/CTAPIPE/\")\n",
    "gamma_cone = FileReader(\"gamma_cone\", directory=\"~/CTAPIPE/\")\n",
    "gamma_onSource = FileReader(\"gamma_onSource\", directory=\"~/CTAPIPE/\")"
   ]
  },
  {
   "cell_type": "code",
   "execution_count": 4,
   "metadata": {
    "scrolled": true
   },
   "outputs": [
    {
     "name": "stderr",
     "output_type": "stream",
     "text": [
      "WARNING:ctapipe.io.hessioeventsource.HESSIOEventSource:Only one pyhessio event_source allowed at a time. Previous hessio file will be closed.\n"
     ]
    }
   ],
   "source": [
    "protons.read_files()"
   ]
  },
  {
   "cell_type": "code",
   "execution_count": 5,
   "metadata": {},
   "outputs": [
    {
     "data": {
      "text/plain": [
       "ctapipe.io.containers.DataContainer:\n",
       "                          r0.*: Raw Data\n",
       "                          r1.*: R1 Calibrated Data\n",
       "                         dl0.*: DL0 Data Volume Reduced Data\n",
       "                         dl1.*: DL1 Calibrated image\n",
       "                         dl2.*: Reconstructed Shower Information\n",
       "                          mc.*: Monte-Carlo data\n",
       "                    mcheader.*: Monte-Carlo run header data\n",
       "                        trig.*: central trigger information\n",
       "                         count: number of events processed\n",
       "                        inst.*: instrumental information (deprecated\n",
       "                   pointing[*]: Telescope pointing positions"
      ]
     },
     "execution_count": 5,
     "metadata": {},
     "output_type": "execute_result"
    }
   ],
   "source": [
    "for event in protons.sources[0]:\n",
    "    break\n",
    "event"
   ]
  },
  {
   "cell_type": "code",
   "execution_count": 6,
   "metadata": {},
   "outputs": [],
   "source": [
    "class event_information():\n",
    "    def __init__(self):\n",
    "        pass\n",
    "    \n",
    "    def collect_information(self):\n",
    "        pass\n",
    "    "
   ]
  }
 ],
 "metadata": {
  "kernelspec": {
   "display_name": "Python 3",
   "language": "python",
   "name": "python3"
  },
  "language_info": {
   "codemirror_mode": {
    "name": "ipython",
    "version": 3
   },
   "file_extension": ".py",
   "mimetype": "text/x-python",
   "name": "python",
   "nbconvert_exporter": "python",
   "pygments_lexer": "ipython3",
   "version": "3.6.4"
  }
 },
 "nbformat": 4,
 "nbformat_minor": 2
}
