{
 "cells": [
  {
   "cell_type": "code",
   "execution_count": 1,
   "metadata": {},
   "outputs": [],
   "source": [
    "from ctapipe.io.hessio import hessio_event_source\n",
    "from ctapipe.io import event_source\n",
    "\n",
    "from ctapipe.calib.camera import calibrator\n",
    "import sys\n",
    "import os\n",
    "from os.path import expandvars\n",
    "\n",
    "import numpy as np\n",
    "import h5py\n",
    "import multiprocessing\n",
    "from datetime import datetime\n",
    "from ctapipe.image import NullWaveformCleaner, CHECMWaveformCleanerAverage, CHECMWaveformCleanerLocal\n",
    "from ctapipe.image import FullIntegrator, SimpleIntegrator, GlobalPeakIntegrator, LocalPeakIntegrator, NeighbourPeakIntegrator, AverageWfPeakIntegrator\n",
    "from ctapipe.image import tailcuts_clean, hillas_parameters\n",
    "from ctapipe.reco import HillasReconstructor\n",
    "from ctapipe.utils import datasets, linalg\n",
    "from astropy import units as u\n",
    "#from tqdm import tqdm\n",
    "\n",
    "from datetime import datetime as time\n",
    "\n",
    "%load_ext autoreload\n",
    "%autoreload 2"
   ]
  },
  {
   "cell_type": "code",
   "execution_count": 2,
   "metadata": {},
   "outputs": [],
   "source": [
    "from konsta_cta.readdata import FileReader"
   ]
  },
  {
   "cell_type": "code",
   "execution_count": 3,
   "metadata": {},
   "outputs": [],
   "source": [
    "protons = FileReader(\"proton\", directory=\"~/CTAPIPE/\")\n",
    "electron = FileReader(\"electron\", directory=\"~/CTAPIPE/\")\n",
    "gamma_cone = FileReader(\"gamma_cone\", directory=\"~/CTAPIPE/\")\n",
    "gamma_onSource = FileReader(\"gamma_onSource\", directory=\"~/CTAPIPE/\")"
   ]
  },
  {
   "cell_type": "code",
   "execution_count": 4,
   "metadata": {},
   "outputs": [],
   "source": [
    "prot_gen = protons.files_as_generator()"
   ]
  },
  {
   "cell_type": "code",
   "execution_count": 5,
   "metadata": {},
   "outputs": [
    {
     "name": "stdout",
     "output_type": "stream",
     "text": [
      "Number of files to read: 2 for datatype proton\n",
      "Now opening proton file 1\n"
     ]
    }
   ],
   "source": [
    "next(prot_gen)"
   ]
  },
  {
   "cell_type": "code",
   "execution_count": 6,
   "metadata": {},
   "outputs": [
    {
     "data": {
      "text/plain": [
       "<ctapipe.io.hessioeventsource.HESSIOEventSource at 0x111dc0048>"
      ]
     },
     "execution_count": 6,
     "metadata": {},
     "output_type": "execute_result"
    }
   ],
   "source": [
    "protons.source"
   ]
  },
  {
   "cell_type": "code",
   "execution_count": 7,
   "metadata": {},
   "outputs": [
    {
     "ename": "AttributeError",
     "evalue": "'FileReader' object has no attribute 'sources'",
     "output_type": "error",
     "traceback": [
      "\u001b[0;31m---------------------------------------------------------------------------\u001b[0m",
      "\u001b[0;31mAttributeError\u001b[0m                            Traceback (most recent call last)",
      "\u001b[0;32m<ipython-input-7-9073ee248ea2>\u001b[0m in \u001b[0;36m<module>\u001b[0;34m()\u001b[0m\n\u001b[0;32m----> 1\u001b[0;31m \u001b[0;32mfor\u001b[0m \u001b[0mevent\u001b[0m \u001b[0;32min\u001b[0m \u001b[0mprotons\u001b[0m\u001b[0;34m.\u001b[0m\u001b[0msources\u001b[0m\u001b[0;34m[\u001b[0m\u001b[0;36m0\u001b[0m\u001b[0;34m]\u001b[0m\u001b[0;34m:\u001b[0m\u001b[0;34m\u001b[0m\u001b[0m\n\u001b[0m\u001b[1;32m      2\u001b[0m     \u001b[0;32mbreak\u001b[0m\u001b[0;34m\u001b[0m\u001b[0m\n\u001b[1;32m      3\u001b[0m \u001b[0mevent\u001b[0m\u001b[0;34m\u001b[0m\u001b[0m\n",
      "\u001b[0;31mAttributeError\u001b[0m: 'FileReader' object has no attribute 'sources'"
     ]
    }
   ],
   "source": [
    "for event in protons.sources[0]:\n",
    "    break\n",
    "event"
   ]
  },
  {
   "cell_type": "code",
   "execution_count": null,
   "metadata": {},
   "outputs": [],
   "source": [
    "class event_information():\n",
    "    def __init__(self):\n",
    "        pass\n",
    "    \n",
    "    def collect_information(self):\n",
    "        pass\n",
    "    "
   ]
  }
 ],
 "metadata": {
  "kernelspec": {
   "display_name": "Python 3",
   "language": "python",
   "name": "python3"
  },
  "language_info": {
   "codemirror_mode": {
    "name": "ipython",
    "version": 3
   },
   "file_extension": ".py",
   "mimetype": "text/x-python",
   "name": "python",
   "nbconvert_exporter": "python",
   "pygments_lexer": "ipython3",
   "version": "3.6.4"
  }
 },
 "nbformat": 4,
 "nbformat_minor": 2
}
