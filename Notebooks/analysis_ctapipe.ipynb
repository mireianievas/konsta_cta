{
 "cells": [
  {
   "cell_type": "code",
   "execution_count": 1,
   "metadata": {},
   "outputs": [],
   "source": [
    "# for reduction of computation time:\n",
    "max_events = 1"
   ]
  },
  {
   "cell_type": "code",
   "execution_count": 2,
   "metadata": {},
   "outputs": [],
   "source": [
    "%load_ext autoreload\n",
    "%autoreload 2\n",
    "\n",
    "import numpy as np\n",
    "import matplotlib.pyplot as plt\n",
    "%matplotlib inline\n",
    "import math\n",
    "\n",
    "# Plot Camera Images\n",
    "####################\n",
    "from ctapipe.visualization import CameraDisplay\n",
    "\n",
    "# Read Data\n",
    "###########\n",
    "from konsta_cta.readdata import FileReader\n",
    "\n",
    "from konsta_cta.image import ImagePreparer\n",
    "\n",
    "\n",
    "#####################################################\n",
    "# The following is not needed for the analysis as it\n",
    "# is included into konta_cta.image. Here it's only\n",
    "# used to clarify single steps:\n",
    "#\n",
    "# Calibration\n",
    "#############\n",
    "from ctapipe.calib.camera.r1 import HESSIOR1Calibrator\n",
    "from ctapipe.calib.camera.dl0 import CameraDL0Reducer\n",
    "from ctapipe.calib.camera import CameraDL1Calibrator\n",
    "\n",
    "r1cal = HESSIOR1Calibrator()\n",
    "dl0cal = CameraDL0Reducer()\n",
    "dl1cal = CameraDL1Calibrator()\n",
    "\n",
    "def calibrator(event):\n",
    "    r1cal.calibrate(event)\n",
    "    dl0cal.reduce(event)\n",
    "    dl1cal.calibrate(event)\n",
    "\n",
    "from ctapipe.calib import CameraCalibrator"
   ]
  },
  {
   "cell_type": "markdown",
   "metadata": {},
   "source": [
    "Problem here: for r1 calibration only CameraR1CalibratorFactory possible.  \n",
    "#### <span style=\"color:red\"> How to select HESSIOR1Calibrator??  </span> \n",
    "\n",
    "`from ctapipe.calib import CameraCalibrator`"
   ]
  },
  {
   "cell_type": "markdown",
   "metadata": {},
   "source": [
    "# List of files\n",
    "Generate a list of files to use analysis or pass directly a list of files to `FileReader`. \n",
    "If `file_list` not passed directly to FileReader, the available files are searched in `directory/datatype`."
   ]
  },
  {
   "cell_type": "code",
   "execution_count": 3,
   "metadata": {},
   "outputs": [],
   "source": [
    "protons = FileReader.get_file_list(\"~/CTAPIPE/proton/\", \"Proton\", max_events=max_events)\n",
    "electrons = FileReader.get_file_list(\"~/CTAPIPE/electron/\", \"Electron\", max_events=max_events)\n",
    "gamma_cone = FileReader.get_file_list(\"~/CTAPIPE/gamma_cone/\", \"Gamma_Cone\", max_events=max_events)\n",
    "gamma_onSource = FileReader.get_file_list(\"~/CTAPIPE/gamma_onSource/\", \"Gamma_onSource\", max_events=max_events)"
   ]
  },
  {
   "cell_type": "markdown",
   "metadata": {},
   "source": [
    "### Read the files\n",
    "\n",
    "#### <span style=\"color:red\">  To do: </span> \n",
    "Possibility to to this via generator or all together from list (maybe conflict with ctapipe??)\n",
    "\n",
    "Generators for reading the files:"
   ]
  },
  {
   "cell_type": "code",
   "execution_count": 4,
   "metadata": {},
   "outputs": [],
   "source": [
    "prot_gen = protons.files_as_generator()\n",
    "elec_gen = electrons.files_as_generator()\n",
    "ga_co_gen = gamma_cone.files_as_generator()\n",
    "ga_on_gen = gamma_onSource.files_as_generator()"
   ]
  },
  {
   "cell_type": "markdown",
   "metadata": {},
   "source": [
    "Reading of the first / next run file of the FileReader generators."
   ]
  },
  {
   "cell_type": "code",
   "execution_count": 5,
   "metadata": {},
   "outputs": [
    {
     "name": "stderr",
     "output_type": "stream",
     "text": [
      "WARNING:ctapipe.io.hessioeventsource.HESSIOEventSource:Only one pyhessio event_source allowed at a time. Previous hessio file will be closed.\n",
      "WARNING:ctapipe.io.hessioeventsource.HESSIOEventSource:Only one pyhessio event_source allowed at a time. Previous hessio file will be closed.\n",
      "WARNING:ctapipe.io.hessioeventsource.HESSIOEventSource:Only one pyhessio event_source allowed at a time. Previous hessio file will be closed.\n"
     ]
    },
    {
     "name": "stdout",
     "output_type": "stream",
     "text": [
      "Now opening file Proton\n",
      "Now opening file Electron\n",
      "Now opening file Gamma_Cone\n",
      "Now opening file Gamma_onSource\n"
     ]
    }
   ],
   "source": [
    "for particle in [prot_gen, elec_gen, ga_co_gen, ga_on_gen]:\n",
    "    next(particle)"
   ]
  },
  {
   "cell_type": "markdown",
   "metadata": {},
   "source": [
    "---------\n",
    "---------\n",
    "Source files now accesable via `particle.source`.\n",
    "\n",
    "#### Select only first event."
   ]
  },
  {
   "cell_type": "code",
   "execution_count": null,
   "metadata": {},
   "outputs": [],
   "source": [
    "for event in gamma_cone.source:\n",
    "    break\n",
    "event"
   ]
  },
  {
   "cell_type": "markdown",
   "metadata": {},
   "source": [
    "\n",
    "#### <span style=\"color:red\">  Select telescopes for subarray </span> \n",
    "`event.inst.subarray.select_subarray()`"
   ]
  },
  {
   "cell_type": "markdown",
   "metadata": {},
   "source": [
    "# Calibration\n",
    "\n",
    "To fill data level r1, dl0 an dl1 reduction and calibration of the images are needed.\n",
    "\n",
    "Performing the calibration of the images from r0 $\\rightarrow$ dl1. Important: calibrator for r1 must fit the simulation file. In this case: `HESSIOR1Calibrator`\n",
    "\n",
    "`CameraCalibrator` not applyable because `HESSIOR1Calibrator` not selectable.\n",
    "\n",
    "The calibration process returns calibrated camera images in `pe` for dl1"
   ]
  },
  {
   "cell_type": "markdown",
   "metadata": {},
   "source": [
    "#### Perform the calibration for event"
   ]
  },
  {
   "cell_type": "code",
   "execution_count": null,
   "metadata": {},
   "outputs": [],
   "source": [
    "calibrator(event)\n",
    "image1 = event.dl1.tel[30].image\n",
    "image1 = np.reshape(image1, [np.shape(image1)[1]])"
   ]
  },
  {
   "cell_type": "markdown",
   "metadata": {},
   "source": [
    "Calibration using the standard method. (This one not suited for the analysis. Only applied to show the results in the plot)"
   ]
  },
  {
   "cell_type": "code",
   "execution_count": null,
   "metadata": {},
   "outputs": [],
   "source": [
    "cal = CameraCalibrator()\n",
    "cal.calibrate(event)\n",
    "\n",
    "image2 = event.dl1.tel[30].image\n",
    "image2 = np.reshape(image2, [np.shape(image2)[1]])"
   ]
  },
  {
   "cell_type": "code",
   "execution_count": null,
   "metadata": {
    "scrolled": false
   },
   "outputs": [],
   "source": [
    "fig = plt.figure(figsize=[15,7])\n",
    "ax1 = fig.add_subplot(111)\n",
    "ax1.hist(image1, alpha=0.55, bins=50, color='C0', zorder=1)\n",
    "ax1.hist(image1, alpha=1, bins=50, color='C0', histtype='step', stacked=True, linewidth=2, zorder=1)\n",
    "\n",
    "ax2 = ax1.twiny()\n",
    "ax2.hist(image2, alpha=0.55, bins=50, color='C1', zorder=1)\n",
    "ax2.hist(image2, alpha=1, bins=50, color='C1', histtype='step', stacked=True, linewidth=2, zorder=1)\n",
    "\n",
    "ax1.axvline(7, color='grey', linewidth=3, linestyle='--', zorder=0)\n",
    "ax1.axvline(4, color='grey', linewidth=3, linestyle='--', zorder=0)\n",
    "\n",
    "ax1.set_xlabel(\"PE for HESSIOR1Calibrator\", color='C0', fontsize=15)\n",
    "ax2.set_xlabel(\"PE for CameraCallibrator\", color='C1', fontsize=15)\n",
    "\n",
    "ax1.set_ylabel('Number of Pixels', fontsize=15)\n",
    "\n",
    "title = \"Comparison of standard CameraCallibrator to usage of HESSIOR1Calibrator\"\n",
    "plt.text(0.5, 1.12, title,\n",
    "         horizontalalignment='center',\n",
    "         fontsize=20,\n",
    "         transform = ax2.transAxes)\n",
    "plt.style.use(['default'])\n",
    "ax1.semilogy()\n",
    "\n",
    "plt.tight_layout()"
   ]
  },
  {
   "cell_type": "markdown",
   "metadata": {},
   "source": [
    "# Image Cleaning"
   ]
  },
  {
   "cell_type": "markdown",
   "metadata": {},
   "source": [
    "For the image cleaning the `tailcuts_clean` is applied. Therfore, the pixels with $pe\\geq7$ are defined to be image pixels. Afterwards, the pixels with $pe\\geq4$ and direct connection to at least one imgae pixls are recognized as boundary pixels. \n",
    "Furthermorem, isolated pixels are not kept and it is possible to set a minimum of neighbouring pixels to considere those as signals.\n",
    "\n",
    "#### <span style=\"color:red\"> What are appropriate parameters for each telescope? </span>\n",
    "\n",
    "Besides `tailcuts_clean`, waveform cleaning already implemented in ctapipe:  \n",
    "https://github.com/cta-observatory/ctapipe/blob/master/ctapipe/image/waveform_cleaning.py\n",
    "\n",
    "Wavelet cleaning:  \n",
    "https://github.com/jdhp-sap/ctapipe-wavelet-filter"
   ]
  },
  {
   "cell_type": "markdown",
   "metadata": {},
   "source": [
    "##### Peforming tailcut cleaning and image parametrization for each event.\n",
    "\n",
    "All telescopes that recorded data for each event and particle type and applies the image cleaning. The resulting images that are not empty are then stored in the `dict` named `cleaned_images`. For each of the cleaned images, the hillas moments are calculated and stored in `hillas_moments`.\n",
    "\n",
    "The keys of the two `dicts` are named the following: `['datatype', 'event_id', 'tel_id']`\n",
    "\n",
    "#### <span style=\"color:red\">  Do I need runnumber for later? </span> "
   ]
  },
  {
   "cell_type": "code",
   "execution_count": null,
   "metadata": {},
   "outputs": [],
   "source": [
    "images = ImagePreparer([protons, electrons, gamma_cone, gamma_onSource])\n",
    "images.analysis()"
   ]
  },
  {
   "cell_type": "markdown",
   "metadata": {},
   "source": [
    "#### Plot all cleaned camera images separated in the different particle types"
   ]
  },
  {
   "cell_type": "code",
   "execution_count": null,
   "metadata": {
    "scrolled": false
   },
   "outputs": [],
   "source": [
    "# get searchable array of the keys\n",
    "keys = images.keys\n",
    "geoms = images.geoms\n",
    "\n",
    "# maximum number of rows for each particle type:\n",
    "max_rows = 1\n",
    "\n",
    "# loop through all particle types\n",
    "for particle in [protons, electrons, gamma_cone, gamma_onSource]:\n",
    "    \n",
    "    if not max_rows:\n",
    "        # calculate number of rows needed for plot\n",
    "        rows = math.ceil(images.n_images_after_cleaning[particle.datatype]/3)\n",
    "        # keys of the dictionary belonging to this particle type\n",
    "        keys_for_particle = enumerate(np.arange(0,len(keys))[keys[:,0]==particle.datatype])\n",
    "    elif math.ceil(images.n_clean_images[particle.datatype]/3) <= max_rows:\n",
    "        # in case of number of images is smaler than 3*max_rows,\n",
    "        # use the actual needed number of rows for the plot\n",
    "        rows = math.ceil(images.n_clean_images[particle.datatype]/3)\n",
    "        keys_for_particle = enumerate(np.arange(0,len(keys))[keys[:,0]==particle.datatype])\n",
    "    else:    \n",
    "        rows = max_rows\n",
    "        # if max_rows is relevant plot only first 3 * max_row images\n",
    "        keys_for_particle = enumerate(np.arange(0,len(keys))[keys[:,0]==particle.datatype][0:(rows*3)])\n",
    "    \n",
    "    # Generate one plot for each particle type\n",
    "    fig = plt.figure(figsize=[20,1+8*rows])\n",
    "    \n",
    "    for k, i in keys_for_particle:  \n",
    "        image = images.clean_images[keys[i,0], int(keys[i,1]), int(keys[i,2])]\n",
    "        \n",
    "        hillas_moments = images.hillas_moments[keys[i,0], int(keys[i,1]), int(keys[i,2])]\n",
    "        geom = geoms[int(keys[i,2])]\n",
    "        # setub the subplots\n",
    "        \n",
    "        plt.subplot(2*rows,3,k+1)\n",
    "        title=\"particle {}, event {}, tel {}\".format(keys[i,0], keys[i,1], keys[i,2])\n",
    "        # Plot the images\n",
    "        disp = CameraDisplay(geom, image=image, title=title)\n",
    "        disp.cmap = plt.cm.viridis\n",
    "        disp.add_colorbar()\n",
    "        #disp.overlay_moments(hillas_moments, color='red', linewidth=3)\n",
    "\n",
    "    plt.suptitle(particle.datatype, fontsize=25)\n",
    "    plt.tight_layout()\n",
    "    # Adjust space for suptitle\n",
    "    fig.subplots_adjust(top = 1 - (0.12 / rows**(1.1/2))  )\n",
    "    plt.show()\n",
    "    plt.close()"
   ]
  },
  {
   "cell_type": "markdown",
   "metadata": {},
   "source": [
    "# <span style=\"color:red\">  Direction reconstruction </span> "
   ]
  },
  {
   "cell_type": "markdown",
   "metadata": {},
   "source": [
    "# <span style=\"color:red\">  $\\gamma$/h - separation </span> "
   ]
  },
  {
   "cell_type": "code",
   "execution_count": null,
   "metadata": {},
   "outputs": [],
   "source": [
    "from konsta_cta.classify import EventClassifier\n",
    "Classifier = EventClassifier(gamma_cone, protons)"
   ]
  },
  {
   "cell_type": "markdown",
   "metadata": {},
   "source": [
    "#### Split data in training and testing data set"
   ]
  },
  {
   "cell_type": "code",
   "execution_count": null,
   "metadata": {},
   "outputs": [],
   "source": [
    "Classifier.split_data()"
   ]
  },
  {
   "cell_type": "markdown",
   "metadata": {},
   "source": [
    "# <span style=\"color:red\">  Energy reconstruction </span> "
   ]
  },
  {
   "cell_type": "markdown",
   "metadata": {},
   "source": [
    "# <span style=\"color:red\">  Effective areas </span> "
   ]
  }
 ],
 "metadata": {
  "kernelspec": {
   "display_name": "Python 3",
   "language": "python",
   "name": "python3"
  },
  "language_info": {
   "codemirror_mode": {
    "name": "ipython",
    "version": 3
   },
   "file_extension": ".py",
   "mimetype": "text/x-python",
   "name": "python",
   "nbconvert_exporter": "python",
   "pygments_lexer": "ipython3",
   "version": "3.6.4"
  }
 },
 "nbformat": 4,
 "nbformat_minor": 2
}
