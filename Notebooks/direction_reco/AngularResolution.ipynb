{
 "cells": [
  {
   "cell_type": "code",
   "execution_count": 1,
   "metadata": {},
   "outputs": [],
   "source": [
    "import pandas as pd\n",
    "import numpy as np\n",
    "import matplotlib.pyplot as plt\n",
    "import os\n",
    "import glob\n",
    "%matplotlib inline\n",
    "from matplotlib.colors import LogNorm\n",
    "from matplotlib import rcParams"
   ]
  },
  {
   "cell_type": "code",
   "execution_count": 2,
   "metadata": {},
   "outputs": [],
   "source": [
    "def calc_angular_resolution(off_angle, trueE, q=0.68, erange=[0.01, 100], bins=10):\n",
    "    '''\n",
    "    off_angle - pd.Series\n",
    "    true_e - pd.Series\n",
    "    quantile - float\n",
    "    erange - list, upper an lower edge in TeV\n",
    "    ebins - int, number of bins\n",
    "    '''\n",
    "\n",
    "    ebins_log = np.linspace(np.log10(erange[0]), np.log10(erange[1]), bins+1)\n",
    "    ebins = np.power(10, ebins_log)\n",
    "\n",
    "    quantiles = np.zeros(shape=[2, bins])\n",
    "    # loop over bins in energy\n",
    "    for i in range(bins):\n",
    "\n",
    "        angles_bin = off_angle.loc[(trueE >= ebins[i]) &\\\n",
    "                                   (trueE <= ebins[i+1])]\n",
    "        N = len(angles_bin)\n",
    "\n",
    "        quantiles[0, i] = angles_bin.quantile(q)\n",
    "        # error of quantile follows binominal distribution\n",
    "        quantiles[1, i] = np.sqrt(N * q * ( 1 - q)) / N\n",
    "\n",
    "    # calculate mean positions \n",
    "    pos_log = np.mean(np.array([ebins_log[:-1], ebins_log[1:]]), axis=0)\n",
    "    pos = np.power(10, pos_log)\n",
    "    # get asymmetrical bin widths\n",
    "    err = [pos - ebins[:-1], ebins[1:] - pos]\n",
    "\n",
    "    return quantiles, pos, err"
   ]
  },
  {
   "cell_type": "markdown",
   "metadata": {},
   "source": [
    "# Requirement"
   ]
  },
  {
   "cell_type": "code",
   "execution_count": 3,
   "metadata": {},
   "outputs": [],
   "source": [
    "loge = [-1.64983, -1.49475, -1.32191, -1.05307, -0.522689, \n",
    "        0.139036, 0.949169, 1.67254,  2.20447, 2.49232]\n",
    "e = np.power(10, loge)\n",
    "angres = [0.453339 , 0.295111 , 0.203515 , 0.138619 , 0.0858772, 0.0569610, 0.0372988, 0.0274391, 0.0232297, 0.0216182]"
   ]
  },
  {
   "cell_type": "markdown",
   "metadata": {},
   "source": [
    "# No Multiplicity cut"
   ]
  },
  {
   "cell_type": "markdown",
   "metadata": {},
   "source": [
    "### Hyperarray"
   ]
  },
  {
   "cell_type": "raw",
   "metadata": {},
   "source": [
    "datadir = os.path.abspath(\"../../Examples/write_feature_list/odir/HyperArray/\")\n",
    "\n",
    "data_Hyper = None\n",
    "\n",
    "for file in glob.glob(\"{}/output*gamma*\".format(datadir))[:500]:\n",
    "    datafile = pd.read_hdf(file, key=\"direction_reconstriction\")\n",
    "    try:\n",
    "        data_Hyper = pd.concat([data_Hyper, datafile])\n",
    "    except NameError:\n",
    "        data_Hyper = datafile\n",
    "    except (HDF5ExtError, OSError):\n",
    "        print(\"Not able to read {}\".format(file))\n",
    "        continue\n",
    "        "
   ]
  },
  {
   "cell_type": "raw",
   "metadata": {},
   "source": [
    "quantiles, pos, err = calc_angular_resolution(off_angle=data_Hyper.off_angle,\n",
    "                                  trueE=data_Hyper.MC_Energy, erange=[0.008, 500], bins=30)\n",
    "\n",
    "\n",
    "xbins = 10**np.linspace(-2.4, 2.7, 100)\n",
    "#ybins = 10**np.linspace(-2, 1, 100)\n",
    "ybins = np.linspace(0, 1, 100)\n",
    "\n",
    "counts, _, _ = np.histogram2d(data_Hyper.MC_Energy, data_Hyper.off_angle, bins=(xbins, ybins))\n",
    "counts = np.log10(counts.T)\n",
    "counts[np.isinf(counts)] = 0\n",
    "\n",
    "plt.figure(figsize=(14,10))\n",
    "rcParams['xtick.labelsize'] = 15\n",
    "rcParams['ytick.labelsize'] = 15\n",
    "pcol = plt.pcolormesh(xbins, ybins, counts, alpha=1., cmap=\"bone\")\n",
    "\n",
    "plt.xscale('log')\n",
    "plt.ylim(ymin=0)\n",
    "plt.errorbar(pos, quantiles[0], quantiles[1], err, fmt=\"o\", color=\"C1\", zorder=10,\n",
    "             label=\"angular resolution\", linewidth=4, markersize=2)\n",
    "plt.plot(e, angres, linewidth=4, label=\"requirment\", color=\"C3\")\n",
    "plt.xlabel(\"True Energy / TeV\", fontsize=20)\n",
    "plt.ylabel(\"Difference between\\n true and reconstructed direction / deg\", fontsize=20)\n",
    "plt.legend(fontsize=20)\n",
    "plt.tight_layout()\n",
    "plt.savefig(\"Hyperarray_noCut.pdf\")"
   ]
  },
  {
   "cell_type": "markdown",
   "metadata": {},
   "source": [
    "### Standardarray"
   ]
  },
  {
   "cell_type": "raw",
   "metadata": {},
   "source": [
    "datadir = os.path.abspath(\"../../Examples/write_feature_list/odir/\")\n",
    "\n",
    "data_stand = None\n",
    "\n",
    "for file in glob.glob(\"{}/output*gamma*\".format(datadir))[:500]:\n",
    "    datafile = pd.read_hdf(file, key=\"direction_reconstriction\")\n",
    "    try:\n",
    "        data_stand = pd.concat([data_stand, datafile])\n",
    "    except NameError:\n",
    "        data_stand = datafile\n",
    "    except (HDF5ExtError, OSError):\n",
    "        print(\"Not able to read {}\".format(file))\n",
    "        continue"
   ]
  },
  {
   "cell_type": "raw",
   "metadata": {},
   "source": [
    "quantiles, pos, err = calc_angular_resolution(off_angle=data_stand.off_angle,\n",
    "                                  trueE=data_stand.MC_Energy, erange=[0.008, 500], bins=30)\n",
    "\n",
    "\n",
    "xbins = 10**np.linspace(-2.4, 2.7, 100)\n",
    "#ybins = 10**np.linspace(-2, 1, 100) # logy\n",
    "\n",
    "ybins = np.linspace(0, 1, 100)\n",
    "\n",
    "counts, _, _ = np.histogram2d(data_stand.MC_Energy, data_stand.off_angle, bins=(xbins, ybins))\n",
    "counts = np.log10(counts.T)\n",
    "\n",
    "counts[np.isinf(counts)] = 0\n",
    "\n",
    "plt.figure(figsize=(14,10))\n",
    "rcParams['xtick.labelsize'] = 15\n",
    "rcParams['ytick.labelsize'] = 15\n",
    "pcol = plt.pcolormesh(xbins, ybins, counts, alpha=1., cmap=\"bone\")\n",
    "\n",
    "plt.xscale('log')\n",
    "plt.ylim(ymin=0)\n",
    "plt.errorbar(pos, quantiles[0], quantiles[1], err, fmt=\"o\", color=\"C1\", zorder=10,\n",
    "             label=\"angular resolution\", linewidth=4, markersize=2)\n",
    "plt.plot(e, angres, linewidth=4, label=\"requirment\", color=\"C3\")\n",
    "plt.xlabel(\"True Energy / TeV\", fontsize=20)\n",
    "plt.ylabel(\"Difference between\\n true and reconstructed direction / deg\", fontsize=20)\n",
    "plt.legend(fontsize=20)\n",
    "plt.tight_layout()\n",
    "plt.savefig(\"Standardarray_noCut.pdf\")"
   ]
  },
  {
   "cell_type": "markdown",
   "metadata": {},
   "source": [
    "# Cut in multiplicity"
   ]
  },
  {
   "cell_type": "markdown",
   "metadata": {},
   "source": [
    "### Standard mutiplicity 5"
   ]
  },
  {
   "cell_type": "raw",
   "metadata": {},
   "source": [
    "datadir = os.path.abspath(\"../../Examples/write_feature_list/odir/Multiplicity5/Standard/\")\n",
    "\n",
    "data_stand = None\n",
    "\n",
    "for file in glob.glob(\"{}/output*gamma*\".format(datadir))[:500]:\n",
    "    datafile = pd.read_hdf(file, key=\"direction_reconstriction\")\n",
    "    try:\n",
    "        data_stand = pd.concat([data_stand, datafile])\n",
    "    except NameError:\n",
    "        data_stand = datafile\n",
    "    except (HDF5ExtError, OSError):\n",
    "        print(\"Not able to read {}\".format(file))\n",
    "        continue"
   ]
  },
  {
   "cell_type": "raw",
   "metadata": {},
   "source": [
    "quantiles, pos, err = calc_angular_resolution(off_angle=data_stand.off_angle,\n",
    "                                  trueE=data_stand.MC_Energy, erange=[0.008, 500], bins=30)\n",
    "\n",
    "\n",
    "xbins = 10**np.linspace(-2.4, 2.7, 100)\n",
    "#ybins = 10**np.linspace(-2, 1, 100) # logy\n",
    "\n",
    "ybins = np.linspace(0, 1, 100)\n",
    "\n",
    "counts, _, _ = np.histogram2d(data_stand.MC_Energy, data_stand.off_angle, bins=(xbins, ybins))\n",
    "counts = np.log10(counts.T)\n",
    "\n",
    "counts[np.isinf(counts)] = 0\n",
    "\n",
    "plt.figure(figsize=(14,10))\n",
    "rcParams['xtick.labelsize'] = 15\n",
    "rcParams['ytick.labelsize'] = 15\n",
    "pcol = plt.pcolormesh(xbins, ybins, counts, alpha=1., cmap=\"bone\")\n",
    "\n",
    "plt.xscale('log')\n",
    "plt.ylim(ymin=0)\n",
    "plt.errorbar(pos, quantiles[0], quantiles[1], err, fmt=\"o\", color=\"C1\", zorder=10,\n",
    "             label=\"angular resolution\", linewidth=4, markersize=2)\n",
    "plt.plot(e, angres, linewidth=4, label=\"requirment\", color=\"C3\")\n",
    "plt.xlabel(\"True Energy / TeV\", fontsize=20)\n",
    "plt.ylabel(\"Difference between\\n true and reconstructed direction / deg\", fontsize=20)\n",
    "plt.legend(fontsize=20)\n",
    "plt.tight_layout()\n",
    "plt.savefig(\"Standardarray_Cut5.pdf\")"
   ]
  },
  {
   "cell_type": "markdown",
   "metadata": {
    "collapsed": true
   },
   "source": [
    "### Multiplicity 4, comparison default weights with LUT weights\n",
    "\n",
    "by default `weight = moments.intensity * (moments.length / moments.width)` is used."
   ]
  },
  {
   "cell_type": "code",
   "execution_count": 4,
   "metadata": {},
   "outputs": [],
   "source": [
    "max_files = None"
   ]
  },
  {
   "cell_type": "markdown",
   "metadata": {},
   "source": [
    "#### Default weights, $N_{images} > 4$"
   ]
  },
  {
   "cell_type": "code",
   "execution_count": 5,
   "metadata": {},
   "outputs": [],
   "source": [
    "datadir_default = os.path.abspath(\"../../Examples/write_feature_list/Output/Multiplicity4/default_weights/\")\n",
    "\n",
    "data_default = None\n",
    "for file in glob.glob(\"{}/output*gamma*\".format(datadir_default))[:max_files]:\n",
    "    datafile = pd.read_hdf(file, key=\"direction_reconstriction\")\n",
    "    try:\n",
    "        data_default = pd.concat([data_default, datafile])\n",
    "    except NameError:\n",
    "        data_default = datafile\n",
    "    except (HDF5ExtError, OSError):\n",
    "        print(\"Not able to read {}\".format(file))\n",
    "        continue"
   ]
  },
  {
   "cell_type": "markdown",
   "metadata": {},
   "source": [
    "#### LUT weights, $N_{images} > 4$"
   ]
  },
  {
   "cell_type": "code",
   "execution_count": 6,
   "metadata": {},
   "outputs": [],
   "source": [
    "datadir_LUT = os.path.abspath(\"../../Examples/write_feature_list/Output/Multiplicity4/LUT_weights/\")\n",
    "\n",
    "data_LUT = None\n",
    "for file in glob.glob(\"{}/output*gamma*\".format(datadir_LUT))[:max_files]:\n",
    "    datafile = pd.read_hdf(file, key=\"direction_reconstriction\")\n",
    "    try:\n",
    "        data_LUT = pd.concat([data_LUT, datafile])\n",
    "    except NameError:\n",
    "        data_LUT = datafile\n",
    "    except (HDF5ExtError, OSError):\n",
    "        print(\"Not able to read {}\".format(file))\n",
    "        continue"
   ]
  },
  {
   "cell_type": "markdown",
   "metadata": {},
   "source": [
    "#### LUT weights, cut on ratio width / length, $N_{images} > 4$"
   ]
  },
  {
   "cell_type": "code",
   "execution_count": 7,
   "metadata": {},
   "outputs": [],
   "source": [
    "datadir_LUT_ratiocut = os.path.abspath(\"../../Examples/write_feature_list/Output/Multiplicity4/LUT_weights_ratiocut/\")\n",
    "\n",
    "data_LUT_ratiocut = None\n",
    "for file in glob.glob(\"{}/output*gamma*\".format(datadir_LUT_ratiocut))[:max_files]:\n",
    "    datafile = pd.read_hdf(file, key=\"direction_reconstriction\")\n",
    "    try:\n",
    "        data_LUT_ratiocut = pd.concat([data_LUT_ratiocut, datafile])\n",
    "    except NameError:\n",
    "        data_LUT_ratiocut = datafile\n",
    "    except (HDF5ExtError, OSError):\n",
    "        print(\"Not able to read {}\".format(file))\n",
    "        continue"
   ]
  },
  {
   "cell_type": "markdown",
   "metadata": {},
   "source": [
    "#### LUT weights, cut on ratio width / length, $N_{images} > 4$, cut 2 per type and drop types"
   ]
  },
  {
   "cell_type": "code",
   "execution_count": 8,
   "metadata": {
    "scrolled": false
   },
   "outputs": [],
   "source": [
    "datadir_LUT_ratiocut_pertype = os.path.abspath(\"../../Examples/write_feature_list/Output/Multiplicity4_perType/LUT_weights_ratiocut_removedTypes_0801/\")\n",
    "\n",
    "data_LUT_ratiocut_pertype = None\n",
    "for file in glob.glob(\"{}/output*gamma*\".format(datadir_LUT_ratiocut_pertype))[:max_files]:\n",
    "    datafile = pd.read_hdf(file, key=\"direction_reconstriction\")\n",
    "    try:\n",
    "        data_LUT_ratiocut_pertype = pd.concat([data_LUT_ratiocut_pertype, datafile])\n",
    "    except NameError:\n",
    "        data_LUT_ratiocut_pertype = datafile\n",
    "    except (HDF5ExtError, OSError):\n",
    "        print(\"Not able to read {}\".format(file))\n",
    "        continue"
   ]
  },
  {
   "cell_type": "code",
   "execution_count": 9,
   "metadata": {},
   "outputs": [
    {
     "name": "stderr",
     "output_type": "stream",
     "text": [
      "/Users/konstantinpfrang/anaconda3/envs/cta-dev/lib/python3.6/site-packages/ipykernel_launcher.py:22: RuntimeWarning: invalid value encountered in double_scalars\n"
     ]
    },
    {
     "data": {
      "image/png": "[encoded data removed]",
      "text/plain": [
       "<Figure size 1008x720 with 1 Axes>"
      ]
     },
     "metadata": {},
     "output_type": "display_data"
    }
   ],
   "source": [
    "quantiles_default, pos, err_default = calc_angular_resolution(off_angle=data_default.off_angle,\n",
    "                                  trueE=data_default.MC_Energy, erange=[0.008, 700], bins=30)\n",
    "\n",
    "quantiles_LUT, pos, err_LUT = calc_angular_resolution(off_angle=data_LUT.off_angle,\n",
    "                                  trueE=data_LUT.MC_Energy, erange=[0.008, 700], bins=30)\n",
    "\n",
    "quantiles_LUT_ratiocut, pos, err_LUT_ratiocut = calc_angular_resolution(off_angle=data_LUT_ratiocut.off_angle,\n",
    "                                  trueE=data_LUT_ratiocut.MC_Energy, erange=[0.008, 700], bins=30)\n",
    "\n",
    "quantiles_LUT_ratiocut_pertype, pos, err_LUT_ratiocut_pertype = calc_angular_resolution(off_angle=data_LUT_ratiocut_pertype.off_angle,\n",
    "                                  trueE=data_LUT_ratiocut_pertype.MC_Energy, erange=[0.008, 700], bins=30)\n",
    "\n",
    "\n",
    "plt.figure(figsize=(14,10))\n",
    "rcParams['xtick.labelsize'] = 15\n",
    "rcParams['ytick.labelsize'] = 15\n",
    "plt.xscale('log')\n",
    "#plt.ylim([0,.5])\n",
    "plt.errorbar(pos, quantiles_default[0], quantiles_default[1], err_default, fmt=\"o\", color=\"C1\", zorder=10,\n",
    "             label=\"default, multi 4\", linewidth=4, markersize=2, alpha=0.7)\n",
    "#plt.errorbar(pos, quantiles_LUT[0], quantiles_LUT[1], err_LUT, fmt=\"o\", color=\"C0\", zorder=10,\n",
    "#             label=\"LUT, multi 4 \", linewidth=4, markersize=2, alpha=0.7)\n",
    "plt.errorbar(pos, quantiles_LUT_ratiocut[0], quantiles_LUT_ratiocut[1], err_LUT_ratiocut, fmt=\"o\", color=\"C2\", zorder=10,\n",
    "             label=\"LUT, multi 4, w/l cut\", linewidth=4, markersize=2, alpha=0.6)\n",
    "plt.errorbar(pos, quantiles_LUT_ratiocut_pertype[0], quantiles_LUT_ratiocut_pertype[1], err_LUT_ratiocut_pertype, fmt=\"o\", color=\"C3\", zorder=10,\n",
    "             label=\"LUT, multi 4, per type 2 + remove, w/l cut\", linewidth=4, markersize=2, alpha=0.6)\n",
    "\n",
    "plt.plot(e, angres, linewidth=4, label=\"requirment\", color=\"k\", alpha=0.5, linestyle=\"--\")\n",
    "plt.xlabel(\"True Energy / TeV\", fontsize=20)\n",
    "plt.ylabel(\"Difference between\\n true and reconstructed direction / deg\", fontsize=20)\n",
    "\n",
    "plt.legend(fontsize=20)\n",
    "plt.tight_layout()\n",
    "plt.savefig(\"Standardarray_default_vs_LUT.pdf\")"
   ]
  },
  {
   "cell_type": "markdown",
   "metadata": {},
   "source": [
    "# Comparison of different multiplicity cuts"
   ]
  },
  {
   "cell_type": "code",
   "execution_count": 10,
   "metadata": {},
   "outputs": [],
   "source": [
    "max_files = None"
   ]
  },
  {
   "cell_type": "markdown",
   "metadata": {},
   "source": [
    "#### default weights, cut on ratio width / length, $N_{images} > 4$, cut per type 2 (SST 3) keep all if one passed"
   ]
  },
  {
   "cell_type": "code",
   "execution_count": 11,
   "metadata": {},
   "outputs": [
    {
     "ename": "OSError",
     "evalue": "HDF5 error back trace\n\n  File \"H5F.c\", line 511, in H5Fopen\n    unable to open file\n  File \"H5Fint.c\", line 1604, in H5F_open\n    unable to read superblock\n  File \"H5Fsuper.c\", line 630, in H5F__super_read\n    truncated file: eof = 96, sblock->base_addr = 0, stored_eof = 2048\n\nEnd of HDF5 error back trace\n\nUnable to open/create file '/Users/konstantinpfrang/scratch_mount/software/CTA-analysis/Examples/write_feature_list/Output/Multiplicity4_perType/defaultWeights_ratiocut_keepTypes_SST3_0801/output_gamma_20deg_180deg_run218.h5'",
     "output_type": "error",
     "traceback": [
      "\u001b[0;31m---------------------------------------------------------------------------\u001b[0m",
      "\u001b[0;31mHDF5ExtError\u001b[0m                              Traceback (most recent call last)",
      "\u001b[0;32m~/anaconda3/envs/cta-dev/lib/python3.6/site-packages/pandas/io/pytables.py\u001b[0m in \u001b[0;36mopen\u001b[0;34m(self, mode, **kwargs)\u001b[0m\n\u001b[1;32m    603\u001b[0m         \u001b[0;32mtry\u001b[0m\u001b[0;34m:\u001b[0m\u001b[0;34m\u001b[0m\u001b[0m\n\u001b[0;32m--> 604\u001b[0;31m             \u001b[0mself\u001b[0m\u001b[0;34m.\u001b[0m\u001b[0m_handle\u001b[0m \u001b[0;34m=\u001b[0m \u001b[0mtables\u001b[0m\u001b[0;34m.\u001b[0m\u001b[0mopen_file\u001b[0m\u001b[0;34m(\u001b[0m\u001b[0mself\u001b[0m\u001b[0;34m.\u001b[0m\u001b[0m_path\u001b[0m\u001b[0;34m,\u001b[0m \u001b[0mself\u001b[0m\u001b[0;34m.\u001b[0m\u001b[0m_mode\u001b[0m\u001b[0;34m,\u001b[0m \u001b[0;34m**\u001b[0m\u001b[0mkwargs\u001b[0m\u001b[0;34m)\u001b[0m\u001b[0;34m\u001b[0m\u001b[0m\n\u001b[0m\u001b[1;32m    605\u001b[0m         \u001b[0;32mexcept\u001b[0m \u001b[0;34m(\u001b[0m\u001b[0mIOError\u001b[0m\u001b[0;34m)\u001b[0m \u001b[0;32mas\u001b[0m \u001b[0me\u001b[0m\u001b[0;34m:\u001b[0m  \u001b[0;31m# pragma: no cover\u001b[0m\u001b[0;34m\u001b[0m\u001b[0m\n",
      "\u001b[0;32m~/anaconda3/envs/cta-dev/lib/python3.6/site-packages/tables/file.py\u001b[0m in \u001b[0;36mopen_file\u001b[0;34m(filename, mode, title, root_uep, filters, **kwargs)\u001b[0m\n\u001b[1;32m    319\u001b[0m     \u001b[0;31m# Finally, create the File instance, and return it\u001b[0m\u001b[0;34m\u001b[0m\u001b[0;34m\u001b[0m\u001b[0m\n\u001b[0;32m--> 320\u001b[0;31m     \u001b[0;32mreturn\u001b[0m \u001b[0mFile\u001b[0m\u001b[0;34m(\u001b[0m\u001b[0mfilename\u001b[0m\u001b[0;34m,\u001b[0m \u001b[0mmode\u001b[0m\u001b[0;34m,\u001b[0m \u001b[0mtitle\u001b[0m\u001b[0;34m,\u001b[0m \u001b[0mroot_uep\u001b[0m\u001b[0;34m,\u001b[0m \u001b[0mfilters\u001b[0m\u001b[0;34m,\u001b[0m \u001b[0;34m**\u001b[0m\u001b[0mkwargs\u001b[0m\u001b[0;34m)\u001b[0m\u001b[0;34m\u001b[0m\u001b[0m\n\u001b[0m\u001b[1;32m    321\u001b[0m \u001b[0;34m\u001b[0m\u001b[0m\n",
      "\u001b[0;32m~/anaconda3/envs/cta-dev/lib/python3.6/site-packages/tables/file.py\u001b[0m in \u001b[0;36m__init__\u001b[0;34m(self, filename, mode, title, root_uep, filters, **kwargs)\u001b[0m\n\u001b[1;32m    783\u001b[0m         \u001b[0;31m# Now, it is time to initialize the File extension\u001b[0m\u001b[0;34m\u001b[0m\u001b[0;34m\u001b[0m\u001b[0m\n\u001b[0;32m--> 784\u001b[0;31m         \u001b[0mself\u001b[0m\u001b[0;34m.\u001b[0m\u001b[0m_g_new\u001b[0m\u001b[0;34m(\u001b[0m\u001b[0mfilename\u001b[0m\u001b[0;34m,\u001b[0m \u001b[0mmode\u001b[0m\u001b[0;34m,\u001b[0m \u001b[0;34m**\u001b[0m\u001b[0mparams\u001b[0m\u001b[0;34m)\u001b[0m\u001b[0;34m\u001b[0m\u001b[0m\n\u001b[0m\u001b[1;32m    785\u001b[0m \u001b[0;34m\u001b[0m\u001b[0m\n",
      "\u001b[0;32mtables/hdf5extension.pyx\u001b[0m in \u001b[0;36mtables.hdf5extension.File._g_new\u001b[0;34m()\u001b[0m\n",
      "\u001b[0;31mHDF5ExtError\u001b[0m: HDF5 error back trace\n\n  File \"H5F.c\", line 511, in H5Fopen\n    unable to open file\n  File \"H5Fint.c\", line 1604, in H5F_open\n    unable to read superblock\n  File \"H5Fsuper.c\", line 630, in H5F__super_read\n    truncated file: eof = 96, sblock->base_addr = 0, stored_eof = 2048\n\nEnd of HDF5 error back trace\n\nUnable to open/create file '/Users/konstantinpfrang/scratch_mount/software/CTA-analysis/Examples/write_feature_list/Output/Multiplicity4_perType/defaultWeights_ratiocut_keepTypes_SST3_0801/output_gamma_20deg_180deg_run218.h5'",
      "\nDuring handling of the above exception, another exception occurred:\n",
      "\u001b[0;31mOSError\u001b[0m                                   Traceback (most recent call last)",
      "\u001b[0;32m<ipython-input-11-45e25f421bc1>\u001b[0m in \u001b[0;36m<module>\u001b[0;34m()\u001b[0m\n\u001b[1;32m      3\u001b[0m \u001b[0mdata_def_keep\u001b[0m \u001b[0;34m=\u001b[0m \u001b[0;32mNone\u001b[0m\u001b[0;34m\u001b[0m\u001b[0m\n\u001b[1;32m      4\u001b[0m \u001b[0;32mfor\u001b[0m \u001b[0mfile\u001b[0m \u001b[0;32min\u001b[0m \u001b[0mglob\u001b[0m\u001b[0;34m.\u001b[0m\u001b[0mglob\u001b[0m\u001b[0;34m(\u001b[0m\u001b[0;34m\"{}/output*gamma*\"\u001b[0m\u001b[0;34m.\u001b[0m\u001b[0mformat\u001b[0m\u001b[0;34m(\u001b[0m\u001b[0mdatadir_def_keep\u001b[0m\u001b[0;34m)\u001b[0m\u001b[0;34m)\u001b[0m\u001b[0;34m[\u001b[0m\u001b[0;34m:\u001b[0m\u001b[0mmax_files\u001b[0m\u001b[0;34m]\u001b[0m\u001b[0;34m:\u001b[0m\u001b[0;34m\u001b[0m\u001b[0m\n\u001b[0;32m----> 5\u001b[0;31m     \u001b[0mdatafile\u001b[0m \u001b[0;34m=\u001b[0m \u001b[0mpd\u001b[0m\u001b[0;34m.\u001b[0m\u001b[0mread_hdf\u001b[0m\u001b[0;34m(\u001b[0m\u001b[0mfile\u001b[0m\u001b[0;34m,\u001b[0m \u001b[0mkey\u001b[0m\u001b[0;34m=\u001b[0m\u001b[0;34m\"direction_reconstriction\"\u001b[0m\u001b[0;34m)\u001b[0m\u001b[0;34m\u001b[0m\u001b[0m\n\u001b[0m\u001b[1;32m      6\u001b[0m     \u001b[0;32mtry\u001b[0m\u001b[0;34m:\u001b[0m\u001b[0;34m\u001b[0m\u001b[0m\n\u001b[1;32m      7\u001b[0m         \u001b[0mdata_def_keep\u001b[0m \u001b[0;34m=\u001b[0m \u001b[0mpd\u001b[0m\u001b[0;34m.\u001b[0m\u001b[0mconcat\u001b[0m\u001b[0;34m(\u001b[0m\u001b[0;34m[\u001b[0m\u001b[0mdata_def_keep\u001b[0m\u001b[0;34m,\u001b[0m \u001b[0mdatafile\u001b[0m\u001b[0;34m]\u001b[0m\u001b[0;34m)\u001b[0m\u001b[0;34m\u001b[0m\u001b[0m\n",
      "\u001b[0;32m~/anaconda3/envs/cta-dev/lib/python3.6/site-packages/pandas/io/pytables.py\u001b[0m in \u001b[0;36mread_hdf\u001b[0;34m(path_or_buf, key, mode, **kwargs)\u001b[0m\n\u001b[1;32m    371\u001b[0m                 'File %s does not exist' % path_or_buf)\n\u001b[1;32m    372\u001b[0m \u001b[0;34m\u001b[0m\u001b[0m\n\u001b[0;32m--> 373\u001b[0;31m         \u001b[0mstore\u001b[0m \u001b[0;34m=\u001b[0m \u001b[0mHDFStore\u001b[0m\u001b[0;34m(\u001b[0m\u001b[0mpath_or_buf\u001b[0m\u001b[0;34m,\u001b[0m \u001b[0mmode\u001b[0m\u001b[0;34m=\u001b[0m\u001b[0mmode\u001b[0m\u001b[0;34m,\u001b[0m \u001b[0;34m**\u001b[0m\u001b[0mkwargs\u001b[0m\u001b[0;34m)\u001b[0m\u001b[0;34m\u001b[0m\u001b[0m\n\u001b[0m\u001b[1;32m    374\u001b[0m         \u001b[0;31m# can't auto open/close if we are using an iterator\u001b[0m\u001b[0;34m\u001b[0m\u001b[0;34m\u001b[0m\u001b[0m\n\u001b[1;32m    375\u001b[0m         \u001b[0;31m# so delegate to the iterator\u001b[0m\u001b[0;34m\u001b[0m\u001b[0;34m\u001b[0m\u001b[0m\n",
      "\u001b[0;32m~/anaconda3/envs/cta-dev/lib/python3.6/site-packages/pandas/io/pytables.py\u001b[0m in \u001b[0;36m__init__\u001b[0;34m(self, path, mode, complevel, complib, fletcher32, **kwargs)\u001b[0m\n\u001b[1;32m    489\u001b[0m         \u001b[0mself\u001b[0m\u001b[0;34m.\u001b[0m\u001b[0m_fletcher32\u001b[0m \u001b[0;34m=\u001b[0m \u001b[0mfletcher32\u001b[0m\u001b[0;34m\u001b[0m\u001b[0m\n\u001b[1;32m    490\u001b[0m         \u001b[0mself\u001b[0m\u001b[0;34m.\u001b[0m\u001b[0m_filters\u001b[0m \u001b[0;34m=\u001b[0m \u001b[0;32mNone\u001b[0m\u001b[0;34m\u001b[0m\u001b[0m\n\u001b[0;32m--> 491\u001b[0;31m         \u001b[0mself\u001b[0m\u001b[0;34m.\u001b[0m\u001b[0mopen\u001b[0m\u001b[0;34m(\u001b[0m\u001b[0mmode\u001b[0m\u001b[0;34m=\u001b[0m\u001b[0mmode\u001b[0m\u001b[0;34m,\u001b[0m \u001b[0;34m**\u001b[0m\u001b[0mkwargs\u001b[0m\u001b[0;34m)\u001b[0m\u001b[0;34m\u001b[0m\u001b[0m\n\u001b[0m\u001b[1;32m    492\u001b[0m \u001b[0;34m\u001b[0m\u001b[0m\n\u001b[1;32m    493\u001b[0m     \u001b[0;32mdef\u001b[0m \u001b[0m__fspath__\u001b[0m\u001b[0;34m(\u001b[0m\u001b[0mself\u001b[0m\u001b[0;34m)\u001b[0m\u001b[0;34m:\u001b[0m\u001b[0;34m\u001b[0m\u001b[0m\n",
      "\u001b[0;32m~/anaconda3/envs/cta-dev/lib/python3.6/site-packages/pandas/io/pytables.py\u001b[0m in \u001b[0;36mopen\u001b[0;34m(self, mode, **kwargs)\u001b[0m\n\u001b[1;32m    634\u001b[0m             \u001b[0;31m# is not part of IOError, make it one\u001b[0m\u001b[0;34m\u001b[0m\u001b[0;34m\u001b[0m\u001b[0m\n\u001b[1;32m    635\u001b[0m             \u001b[0;32mif\u001b[0m \u001b[0mself\u001b[0m\u001b[0;34m.\u001b[0m\u001b[0m_mode\u001b[0m \u001b[0;34m==\u001b[0m \u001b[0;34m'r'\u001b[0m \u001b[0;32mand\u001b[0m \u001b[0;34m'Unable to open/create file'\u001b[0m \u001b[0;32min\u001b[0m \u001b[0mstr\u001b[0m\u001b[0;34m(\u001b[0m\u001b[0me\u001b[0m\u001b[0;34m)\u001b[0m\u001b[0;34m:\u001b[0m\u001b[0;34m\u001b[0m\u001b[0m\n\u001b[0;32m--> 636\u001b[0;31m                 \u001b[0;32mraise\u001b[0m \u001b[0mIOError\u001b[0m\u001b[0;34m(\u001b[0m\u001b[0mstr\u001b[0m\u001b[0;34m(\u001b[0m\u001b[0me\u001b[0m\u001b[0;34m)\u001b[0m\u001b[0;34m)\u001b[0m\u001b[0;34m\u001b[0m\u001b[0m\n\u001b[0m\u001b[1;32m    637\u001b[0m             \u001b[0;32mraise\u001b[0m\u001b[0;34m\u001b[0m\u001b[0m\n\u001b[1;32m    638\u001b[0m \u001b[0;34m\u001b[0m\u001b[0m\n",
      "\u001b[0;31mOSError\u001b[0m: HDF5 error back trace\n\n  File \"H5F.c\", line 511, in H5Fopen\n    unable to open file\n  File \"H5Fint.c\", line 1604, in H5F_open\n    unable to read superblock\n  File \"H5Fsuper.c\", line 630, in H5F__super_read\n    truncated file: eof = 96, sblock->base_addr = 0, stored_eof = 2048\n\nEnd of HDF5 error back trace\n\nUnable to open/create file '/Users/konstantinpfrang/scratch_mount/software/CTA-analysis/Examples/write_feature_list/Output/Multiplicity4_perType/defaultWeights_ratiocut_keepTypes_SST3_0801/output_gamma_20deg_180deg_run218.h5'"
     ]
    }
   ],
   "source": [
    "datadir_def_keep = os.path.abspath(\"../../Examples/write_feature_list/Output/Multiplicity4_perType/defaultWeights_ratiocut_keepTypes_SST3_0801\")\n",
    "\n",
    "data_def_keep = None\n",
    "for file in glob.glob(\"{}/output*gamma*\".format(datadir_def_keep))[:max_files]:\n",
    "    datafile = pd.read_hdf(file, key=\"direction_reconstriction\")\n",
    "    try:\n",
    "        data_def_keep = pd.concat([data_def_keep, datafile])\n",
    "    except NameError:\n",
    "        data_def_keep = datafile\n",
    "    except (HDF5ExtError, OSError):\n",
    "        print(\"Not able to read {}\".format(file))\n",
    "        continue"
   ]
  },
  {
   "cell_type": "markdown",
   "metadata": {},
   "source": [
    "#### default weights, cut on ratio width / length, $N_{images} > 4$, cut per type 2 (SST 3) remove types"
   ]
  },
  {
   "cell_type": "code",
   "execution_count": null,
   "metadata": {},
   "outputs": [],
   "source": [
    "datadir_def_remove = os.path.abspath(\"../../Examples/write_feature_list/Output/Multiplicity4_perType/defaultWeights_ratiocut_removedTypes_SST3_0801\")\n",
    "\n",
    "data_def_remove = None\n",
    "for file in glob.glob(\"{}/output*gamma*\".format(datadir_def_remove))[:max_files]:\n",
    "    datafile = pd.read_hdf(file, key=\"direction_reconstriction\")\n",
    "    try:\n",
    "        data_def_remove = pd.concat([data_def_remove, datafile])\n",
    "    except NameError:\n",
    "        data_def_remove = datafile\n",
    "    except (HDF5ExtError, OSError):\n",
    "        print(\"Not able to read {}\".format(file))\n",
    "        continue"
   ]
  },
  {
   "cell_type": "markdown",
   "metadata": {},
   "source": [
    "#### LUT weights, cut on ratio width / length, $N_{images} > 4$, cut per type 2 (SST 3) keep all if one passed"
   ]
  },
  {
   "cell_type": "code",
   "execution_count": null,
   "metadata": {},
   "outputs": [],
   "source": [
    "datadir_LUT_keep = os.path.abspath(\"../../Examples/write_feature_list/Output/Multiplicity4_perType/LUT_weights_ratiocut_keepTypes_SST3_0801\")\n",
    "\n",
    "data_LUT_keep = None\n",
    "for file in glob.glob(\"{}/output*gamma*\".format(datadir_LUT_keep))[:max_files]:\n",
    "    datafile = pd.read_hdf(file, key=\"direction_reconstriction\")\n",
    "    try:\n",
    "        data_LUT_keep = pd.concat([data_LUT_keep, datafile])\n",
    "    except NameError:\n",
    "        data_LUT_keep = datafile\n",
    "    except (HDF5ExtError, OSError):\n",
    "        print(\"Not able to read {}\".format(file))\n",
    "        continue"
   ]
  },
  {
   "cell_type": "markdown",
   "metadata": {},
   "source": [
    "#### LUT weights, cut on ratio width / length, $N_{images} > 4$, cut per type 2 (SST 3) remove types"
   ]
  },
  {
   "cell_type": "code",
   "execution_count": null,
   "metadata": {},
   "outputs": [],
   "source": [
    "datadir_LUT_remove = os.path.abspath(\"../../Examples/write_feature_list/Output/Multiplicity4_perType/LUT_weights_ratiocut_removedTypes_SST3_0801\")\n",
    "\n",
    "data_LUT_remove = None\n",
    "for file in glob.glob(\"{}/output*gamma*\".format(datadir_LUT_remove))[:max_files]:\n",
    "    datafile = pd.read_hdf(file, key=\"direction_reconstriction\")\n",
    "    try:\n",
    "        data_LUT_remove = pd.concat([data_LUT_remove, datafile])\n",
    "    except NameError:\n",
    "        data_LUT_remove = datafile\n",
    "    except (HDF5ExtError, OSError):\n",
    "        print(\"Not able to read {}\".format(file))\n",
    "        continue"
   ]
  },
  {
   "cell_type": "code",
   "execution_count": null,
   "metadata": {},
   "outputs": [],
   "source": [
    "q_default_keep, pos, err_default_keep = calc_angular_resolution(off_angle=data_def_keep.off_angle,\n",
    "                                  trueE=data_def_keep.MC_Energy, erange=[0.008, 700], bins=30)\n",
    "\n",
    "q_default_remove, pos, err_default_remove = calc_angular_resolution(off_angle=data_def_remove.off_angle,\n",
    "                                  trueE=data_def_remove.MC_Energy, erange=[0.008, 700], bins=30)\n",
    "\n",
    "q_LUT_keep, pos, err_LUT_keep = calc_angular_resolution(off_angle=data_LUT_keep.off_angle,\n",
    "                                  trueE=data_LUT_keep.MC_Energy, erange=[0.008, 700], bins=30)\n",
    "\n",
    "q_LUT_remove, pos, err_LUT_remove = calc_angular_resolution(off_angle=data_LUT_remove.off_angle,\n",
    "                                  trueE=data_LUT_remove.MC_Energy, erange=[0.008, 700], bins=30)\n",
    "\n",
    "\n",
    "plt.figure(figsize=(14,10))\n",
    "rcParams['xtick.labelsize'] = 15\n",
    "rcParams['ytick.labelsize'] = 15\n",
    "plt.xscale('log')\n",
    "#plt.ylim([0,.5])\n",
    "plt.errorbar(pos, q_default_keep[0], q_default_keep[1], err_default_keep, fmt=\"o\", color=\"C1\", zorder=10,\n",
    "             label=\"default\\n{:1.1e} events passed\".format(len(data_def_keep)), linewidth=4, markersize=2, alpha=0.7)\n",
    "#plt.errorbar(pos, q_default_remove[0], q_default_remove[1], err_default_remove, fmt=\"o\", color=\"C0\", zorder=10,\n",
    "#             label=\"default weights remove types \", linewidth=4, markersize=2, alpha=0.7)\n",
    "plt.errorbar(pos, q_LUT_keep[0], q_LUT_keep[1], err_LUT_keep, fmt=\"o\", color=\"C2\", zorder=10,\n",
    "             label=\"LUT\\n{:1.1e} events passed\".format(len(data_LUT_keep)), linewidth=4, markersize=2, alpha=0.6)\n",
    "plt.errorbar(pos, q_LUT_remove[0], q_LUT_remove[1], err_LUT_remove, fmt=\"o\", color=\"C3\", zorder=10,\n",
    "             label=\"LUT, telescope types removed\\n{:1.1e} events passed\".format(len(data_LUT_remove)), linewidth=4, markersize=2, alpha=0.6)\n",
    "\n",
    "plt.plot(e, angres, linewidth=4, label=\"requirment\", color=\"k\", alpha=0.5, linestyle=\"--\")\n",
    "plt.xlabel(\"True Energy / TeV\", fontsize=20)\n",
    "plt.ylabel(\"Angular resolution / deg\", fontsize=20)\n",
    "plt.title(r\"$N_{images}>4$, $N_{images, LST}>2$, $N_{images, MST}>2$, $N_{images, SST}>3$\", fontsize=20)\n",
    "plt.legend(fontsize=20)\n",
    "plt.tight_layout()\n",
    "plt.savefig(\"Standardarray_def_LUT_removed_telescopes.pdf\")"
   ]
  },
  {
   "cell_type": "markdown",
   "metadata": {},
   "source": [
    "# Comparison of different multiplicity cuts SST4"
   ]
  },
  {
   "cell_type": "code",
   "execution_count": null,
   "metadata": {},
   "outputs": [],
   "source": [
    "max_files = None"
   ]
  },
  {
   "cell_type": "markdown",
   "metadata": {},
   "source": [
    "#### default weights, cut on ratio width / length, $N_{images} > 4$, cut per type 2 (SST 4) keep all if one passed"
   ]
  },
  {
   "cell_type": "code",
   "execution_count": null,
   "metadata": {},
   "outputs": [],
   "source": [
    "datadir_def_keep = os.path.abspath(\"../../Examples/write_feature_list/Output/Multiplicity4_perType/SST4/default_keep\")\n",
    "\n",
    "data_def_keep = None\n",
    "for file in glob.glob(\"{}/output*gamma*\".format(datadir_def_keep))[:max_files]:\n",
    "    datafile = pd.read_hdf(file, key=\"direction_reconstriction\")\n",
    "    try:\n",
    "        data_def_keep = pd.concat([data_def_keep, datafile])\n",
    "    except NameError:\n",
    "        data_def_keep = datafile\n",
    "    except (HDF5ExtError, OSError):\n",
    "        print(\"Not able to read {}\".format(file))\n",
    "        continue"
   ]
  },
  {
   "cell_type": "markdown",
   "metadata": {},
   "source": [
    "#### default weights, cut on ratio width / length, $N_{images} > 4$, cut per type 2 (SST 4) remove types"
   ]
  },
  {
   "cell_type": "code",
   "execution_count": null,
   "metadata": {},
   "outputs": [],
   "source": [
    "datadir_def_remove = os.path.abspath(\"../../Examples/write_feature_list/Output/Multiplicity4_perType/SST4/default_removed\")\n",
    "\n",
    "data_def_remove = None\n",
    "for file in glob.glob(\"{}/output*gamma*\".format(datadir_def_remove))[:max_files]:\n",
    "    datafile = pd.read_hdf(file, key=\"direction_reconstriction\")\n",
    "    try:\n",
    "        data_def_remove = pd.concat([data_def_remove, datafile])\n",
    "    except NameError:\n",
    "        data_def_remove = datafile\n",
    "    except (HDF5ExtError, OSError):\n",
    "        print(\"Not able to read {}\".format(file))\n",
    "        continue"
   ]
  },
  {
   "cell_type": "markdown",
   "metadata": {},
   "source": [
    "#### LUT weights, cut on ratio width / length, $N_{images} > 4$, cut per type 2 (SST 4) keep all if one passed"
   ]
  },
  {
   "cell_type": "code",
   "execution_count": null,
   "metadata": {},
   "outputs": [],
   "source": [
    "datadir_LUT_keep = os.path.abspath(\"../../Examples/write_feature_list/Output/Multiplicity4_perType/SST4/LUT_keep\")\n",
    "\n",
    "data_LUT_keep = None\n",
    "for file in glob.glob(\"{}/output*gamma*\".format(datadir_LUT_keep))[:max_files]:\n",
    "    datafile = pd.read_hdf(file, key=\"direction_reconstriction\")\n",
    "    try:\n",
    "        data_LUT_keep = pd.concat([data_LUT_keep, datafile])\n",
    "    except NameError:\n",
    "        data_LUT_keep = datafile\n",
    "    except (HDF5ExtError, OSError):\n",
    "        print(\"Not able to read {}\".format(file))\n",
    "        continue"
   ]
  },
  {
   "cell_type": "markdown",
   "metadata": {},
   "source": [
    "#### LUT weights, cut on ratio width / length, $N_{images} > 4$, cut per type 2 (SST 4) remove types"
   ]
  },
  {
   "cell_type": "code",
   "execution_count": null,
   "metadata": {},
   "outputs": [],
   "source": [
    "datadir_LUT_remove = os.path.abspath(\"../../Examples/write_feature_list/Output/Multiplicity4_perType/SST4/LUT_remove\")\n",
    "\n",
    "data_LUT_remove = None\n",
    "for file in glob.glob(\"{}/output*gamma*\".format(datadir_LUT_remove))[:max_files]:\n",
    "    datafile = pd.read_hdf(file, key=\"direction_reconstriction\")\n",
    "    try:\n",
    "        data_LUT_remove = pd.concat([data_LUT_remove, datafile])\n",
    "    except NameError:\n",
    "        data_LUT_remove = datafile\n",
    "    except (HDF5ExtError, OSError):\n",
    "        print(\"Not able to read {}\".format(file))\n",
    "        continue"
   ]
  },
  {
   "cell_type": "code",
   "execution_count": null,
   "metadata": {},
   "outputs": [],
   "source": [
    "q_default_keep, pos, err_default_keep = calc_angular_resolution(off_angle=data_def_keep.off_angle,\n",
    "                                  trueE=data_def_keep.MC_Energy, erange=[0.008, 700], bins=30)\n",
    "\n",
    "q_default_remove, pos, err_default_remove = calc_angular_resolution(off_angle=data_def_remove.off_angle,\n",
    "                                  trueE=data_def_remove.MC_Energy, erange=[0.008, 700], bins=30)\n",
    "\n",
    "q_LUT_keep, pos, err_LUT_keep = calc_angular_resolution(off_angle=data_LUT_keep.off_angle,\n",
    "                                  trueE=data_LUT_keep.MC_Energy, erange=[0.008, 700], bins=30)\n",
    "\n",
    "q_LUT_remove, pos, err_LUT_remove = calc_angular_resolution(off_angle=data_LUT_remove.off_angle,\n",
    "                                  trueE=data_LUT_remove.MC_Energy, erange=[0.008, 700], bins=30)\n",
    "\n",
    "\n",
    "plt.figure(figsize=(14,10))\n",
    "rcParams['xtick.labelsize'] = 15\n",
    "rcParams['ytick.labelsize'] = 15\n",
    "plt.xscale('log')\n",
    "#plt.ylim([0,.5])\n",
    "plt.errorbar(pos, q_default_keep[0], q_default_keep[1], err_default_keep, fmt=\"o\", color=\"C1\", zorder=10,\n",
    "             label=\"default\\n{:1.1e} events passed\".format(len(data_def_keep)), linewidth=4, markersize=2, alpha=0.7)\n",
    "#plt.errorbar(pos, q_default_remove[0], q_default_remove[1], err_default_remove, fmt=\"o\", color=\"C0\", zorder=10,\n",
    "#             label=\"default weights remove types \", linewidth=4, markersize=2, alpha=0.7)\n",
    "plt.errorbar(pos, q_LUT_keep[0], q_LUT_keep[1], err_LUT_keep, fmt=\"o\", color=\"C2\", zorder=10,\n",
    "             label=\"LUT\\n{:1.1e} events passed\".format(len(data_LUT_keep)), linewidth=4, markersize=2, alpha=0.6)\n",
    "plt.errorbar(pos, q_LUT_remove[0], q_LUT_remove[1], err_LUT_remove, fmt=\"o\", color=\"C3\", zorder=10,\n",
    "             label=\"LUT, telescope types removed\\n{:1.1e} events passed\".format(len(data_LUT_remove)), linewidth=4, markersize=2, alpha=0.6)\n",
    "\n",
    "plt.plot(e, angres, linewidth=4, label=\"requirment\", color=\"k\", alpha=0.5, linestyle=\"--\")\n",
    "plt.xlabel(\"True Energy / TeV\", fontsize=20)\n",
    "plt.ylabel(\"Angular resolution / deg\", fontsize=20)\n",
    "plt.title(r\"$N_{images}>4$, $N_{images, LST}>2$, $N_{images, MST}>2$, $N_{images, SST}>4$\", fontsize=20)\n",
    "plt.legend(fontsize=20)\n",
    "plt.tight_layout()\n",
    "plt.savefig(\"Standardarray_def_LUT_removed_telescopes_SST4.pdf\")"
   ]
  },
  {
   "cell_type": "code",
   "execution_count": null,
   "metadata": {},
   "outputs": [],
   "source": [
    "max_files = 1\n",
    "\n",
    "def read_files(filelist, max_files):\n",
    "    np.random.shuffle(filelist)\n",
    "    \n",
    "    for file in filelist[:max_files]:\n",
    "        datafile = pd.read_hdf(file, key=\"direction_reconstriction\")\n",
    "        try:\n",
    "            data = pd.concat([data, datafile])\n",
    "        except NameError:\n",
    "            data = datafile\n",
    "        except (HDF5ExtError, OSError):\n",
    "            print(\"Not able to read {}\".format(file))\n",
    "            continue\n",
    "    return len(data)\n",
    "            \n",
    "datadir_def_keep = os.path.abspath(\"../../Examples/write_feature_list/Output/Multiplicity4_perType/SST4/default_keep\")\n",
    "filelist_def = glob.glob(\"{}/output*gamma*\".format(datadir_def_keep))\n",
    "\n",
    "datadir_LUT_keep = os.path.abspath(\"../../Examples/write_feature_list/Output/Multiplicity4_perType/SST4/LUT_keep\")\n",
    "filelist_lut = glob.glob(\"{}/output*gamma*\".format(datadir_LUT_keep))\n",
    "\n",
    "ndef = []\n",
    "nlut = []\n",
    "for i in range(500):\n",
    "    ndef.append(read_files(filelist_def, max_files))\n",
    "    nlut.append(read_files(filelist_lut, max_files))\n",
    "    \n",
    "print(\"Default weights events per {} files: {}+-{}\".format(max_files, np.mean(ndef), np.std(ndef)))\n",
    "print(\"LUT weights events per {} files: {}+-{}\".format(max_files, np.mean(nlut), np.std(nlut)))"
   ]
  },
  {
   "cell_type": "code",
   "execution_count": null,
   "metadata": {},
   "outputs": [],
   "source": [
    "datadir_def_keep = os.path.abspath(\"../../Examples/write_feature_list/Output/Multiplicity4_perType/SST4/default_keep\")\n",
    "\n",
    "data_def_keep = None\n",
    "for file in glob.glob(\"{}/output*gamma*\".format(datadir_def_keep))[:max_files]:\n",
    "    datafile = pd.read_hdf(file, key=\"direction_reconstriction\")\n",
    "    try:\n",
    "        data_def_keep = pd.concat([data_def_keep, datafile])\n",
    "    except NameError:\n",
    "        data_def_keep = datafile\n",
    "    except (HDF5ExtError, OSError):\n",
    "        print(\"Not able to read {}\".format(file))\n",
    "        continue"
   ]
  },
  {
   "cell_type": "code",
   "execution_count": null,
   "metadata": {},
   "outputs": [],
   "source": [
    "datadir_LUT_keep = os.path.abspath(\"../../Examples/write_feature_list/Output/Multiplicity4_perType/SST4/LUT_keep\")\n",
    "\n",
    "data_LUT_keep = None\n",
    "for file in glob.glob(\"{}/output*gamma*\".format(datadir_LUT_keep))[:max_files]:\n",
    "    datafile = pd.read_hdf(file, key=\"direction_reconstriction\")\n",
    "    try:\n",
    "        data_LUT_keep = pd.concat([data_LUT_keep, datafile])\n",
    "    except NameError:\n",
    "        data_LUT_keep = datafile\n",
    "    except (HDF5ExtError, OSError):\n",
    "        print(\"Not able to read {}\".format(file))\n",
    "        continue"
   ]
  },
  {
   "cell_type": "code",
   "execution_count": null,
   "metadata": {},
   "outputs": [],
   "source": []
  },
  {
   "cell_type": "code",
   "execution_count": null,
   "metadata": {},
   "outputs": [],
   "source": []
  },
  {
   "cell_type": "code",
   "execution_count": null,
   "metadata": {},
   "outputs": [],
   "source": []
  },
  {
   "cell_type": "markdown",
   "metadata": {},
   "source": [
    "# Playground"
   ]
  },
  {
   "cell_type": "raw",
   "metadata": {
    "scrolled": false
   },
   "source": [
    "#xbins = 10**np.linspace(-2.4, 2.7, 100)\n",
    "#ybins = 10**np.linspace(-2, 1, 100) # logy\n",
    "#xbins = np.log10(xbins)\n",
    "ybins = np.linspace(0, 1, 100)\n",
    "#xbins = np.linspace(0.01, 1000)\n",
    "xbins = np.logspace(-2, 3, 1000)\n",
    "\n",
    "counts, _, _ = np.histogram2d(data_stand.MC_Energy, data_stand.off_angle, bins=(xbins, ybins))\n",
    "counts = np.log10(counts.T)\n",
    "counts[np.isinf(counts)] = 0\n",
    "\n",
    "extent=[xbins.min(), xbins.max(), ybins.min(), ybins.max()]\n",
    "plt.imshow(np.flip(counts, 0), interpolation=\"nearest\", extent=extent, aspect='auto', alpha=1.)\n",
    "plt.xscale('log')"
   ]
  },
  {
   "cell_type": "raw",
   "metadata": {},
   "source": [
    "x = np.logspace(1, 3, 5)\n",
    "y = np.linspace(0, 2, 3)\n",
    "z = np.linspace(0, 1, 4)\n",
    "Z = np.vstack((z, z))\n",
    "\n",
    "plt.imshow(Z, extent=[10, 1000, 0, 1], cmap='gray')\n",
    "plt.xscale('log')\n",
    "\n",
    "plt.axvline(100, color='red')\n",
    "\n",
    "plt.show()"
   ]
  },
  {
   "cell_type": "code",
   "execution_count": null,
   "metadata": {},
   "outputs": [],
   "source": []
  },
  {
   "cell_type": "code",
   "execution_count": null,
   "metadata": {},
   "outputs": [],
   "source": []
  },
  {
   "cell_type": "code",
   "execution_count": null,
   "metadata": {},
   "outputs": [],
   "source": []
  },
  {
   "cell_type": "code",
   "execution_count": null,
   "metadata": {},
   "outputs": [],
   "source": [
    "from ctapipe.io import event_source\n",
    "import astropy.units as u\n",
    "source = event_source(\"/Users/konstantinpfrang/CTAPIPE/gamma_cone/gamma_20deg_180deg_run1___cta-prod3_desert-2150m-Paranal-merged_cone10.simtel.gz\")"
   ]
  },
  {
   "cell_type": "code",
   "execution_count": null,
   "metadata": {},
   "outputs": [],
   "source": [
    "from ctapipe.coordinates import CameraFrame, HorizonFrame\n",
    "from astropy.coordinates import SkyCoord\n",
    "\n",
    "from ctapipe.visualization import CameraDisplay   # plot camera images\n",
    "from ctapipe.io import event_source               # read rata\n",
    "from ctapipe.calib import CameraCalibrator        # calibration from r0 to dl1\n",
    "from ctapipe.calib.camera.gainselection import pick_gain_channel # gain selection\n",
    "from ctapipe.image.cleaning import tailcuts_clean # image cleaning\n",
    "from ctapipe.image import hillas_parameters       # parametrization\n",
    "from traitlets.config import Config               # handeling of configurations\n",
    "from ctapipe.io import EventSeeker\n",
    "import pickle"
   ]
  },
  {
   "cell_type": "markdown",
   "metadata": {},
   "source": [
    "# Analyze one file"
   ]
  },
  {
   "cell_type": "code",
   "execution_count": null,
   "metadata": {},
   "outputs": [],
   "source": [
    "calibrator_cfg = Config()\n",
    "calibrator_cfg[\"ChargeExtractorFactory\"][\"product\"] = \"LocalPeakIntegrator\" # peak detection method\n",
    "calibrator_cfg['WaveformCleanerFactory']['product'] = \"NullWaveformCleaner\" # waveform cleaning\n",
    "calibrator_cfg[\"ChargeExtractorFactory\"][\"window_width\"] = 7 # width of integration window\n",
    "calibrator_cfg[\"ChargeExtractorFactory\"][\"window_shift\"] = 3 # shift of integration window\n",
    "\n",
    "calibrator = CameraCalibrator(r1_product=\"HESSIOR1Calibrator\", config=calibrator_cfg)\n",
    "\n",
    "# Thresholds for gain channel selection\n",
    "pe_thresh = {\n",
    "    \"ASTRICam\": 14,\n",
    "    \"LSTCam\": 100,\n",
    "    \"NectarCam\": 190}"
   ]
  },
  {
   "cell_type": "markdown",
   "metadata": {},
   "source": [
    "# Ecample: get the DCA value"
   ]
  },
  {
   "cell_type": "code",
   "execution_count": null,
   "metadata": {},
   "outputs": [],
   "source": []
  },
  {
   "cell_type": "code",
   "execution_count": null,
   "metadata": {},
   "outputs": [],
   "source": [
    "source = event_source(\"/Users/konstantinpfrang/CTAPIPE/gamma_onSource/\\\n",
    "gamma_20deg_180deg_run1___cta-prod3_desert-2150m-Paranal-merged.simtel.gz\",\n",
    "                     max_events=20)\n",
    "\n",
    "lookupdata = {}\n",
    "columns = [\"dca\", \"length\", \"width\", \"intensity\"]\n",
    "\n",
    "hillas_dict = {}\n",
    "\n",
    "LUTgen = LookupGenerator()\n",
    "\n",
    "for event in source:\n",
    "    hillas_dict = {}\n",
    "    calibrator.calibrate(event)\n",
    "    \n",
    "    for tel_id in event.r0.tels_with_data:\n",
    "\n",
    "        camera = event.inst.subarray.tel[tel_id].camera\n",
    "\n",
    "        if camera.cam_id in pe_thresh.keys():\n",
    "            image, mask = pick_gain_channel(event.dl1.tel[tel_id].image,\n",
    "                      pe_thresh[camera.cam_id], select_by_sample=True)\n",
    "        else:\n",
    "            image = np.squeeze(event.dl1.tel[tel_id].image)\n",
    "\n",
    "        mask = tailcuts_clean(camera, image=image,\n",
    "            min_number_picture_neighbors=2)\n",
    "\n",
    "        if sum(mask) == 0:\n",
    "            continue\n",
    "        cleaned_image = np.copy(image) # copy of image\n",
    "        cleaned_image[~mask] = 0 # setting not survived pixels to zero\n",
    "\n",
    "        params = hillas_parameters(camera, cleaned_image)\n",
    "        hillas_dict[tel_id] = params\n",
    "    \n",
    "    LUTgen.collect_data(event, hillas_dict)"
   ]
  },
  {
   "cell_type": "code",
   "execution_count": null,
   "metadata": {},
   "outputs": [],
   "source": []
  },
  {
   "cell_type": "code",
   "execution_count": null,
   "metadata": {},
   "outputs": [],
   "source": [
    "size_max = {\"NectarCam\": 500000,\n",
    "    \"FlashCam\": 500000,\n",
    "    \"LSTCam\": 1000000,\n",
    "    \"ASTRICam\": 200000,\n",
    "    \"DigiCam\": 50000,\n",
    "    \"CHEC\": 50000}\n",
    "\n",
    "LUT = LUTgen.make_lookup(size_max, bins=[10,10])\n",
    "\n",
    "LUTgen.display_lookup()"
   ]
  },
  {
   "cell_type": "code",
   "execution_count": null,
   "metadata": {},
   "outputs": [],
   "source": [
    "if round(5/2) < 5/2:\n",
    "    "
   ]
  },
  {
   "cell_type": "code",
   "execution_count": null,
   "metadata": {
    "scrolled": false
   },
   "outputs": [],
   "source": [
    "%load_ext autoreload\n",
    "%autoreload 2\n",
    "from direction_LUT_module import *\n",
    "\n",
    "rcParams['xtick.labelsize'] = 10\n",
    "rcParams['ytick.labelsize'] = 10\n",
    "LUT = LookupGenerator.load(\"../../Examples/write_feature_list/ctapipe_aux_dir/direction_weights_LUT.json\")\n",
    "LUT.display_lookup()"
   ]
  },
  {
   "cell_type": "code",
   "execution_count": null,
   "metadata": {},
   "outputs": [],
   "source": []
  },
  {
   "cell_type": "code",
   "execution_count": null,
   "metadata": {},
   "outputs": [],
   "source": []
  },
  {
   "cell_type": "code",
   "execution_count": null,
   "metadata": {},
   "outputs": [],
   "source": [
    "size_max = {\n",
    "    \"NectarCam\": 2000000,\n",
    "    \"FlashCam\": 2000000,\n",
    "    \"LSTCam\": 10000000,\n",
    "    \"ASTRICam\": 500000,\n",
    "    \"DigiCam\": 50000,\n",
    "    \"CHEC\": 50000}\n",
    "\n",
    "LUT = LUTgen.make_lookup(size_max, bins=[5,5])\n",
    "\n",
    "LUTgen.save(\"test10.json\")"
   ]
  },
  {
   "cell_type": "code",
   "execution_count": null,
   "metadata": {},
   "outputs": [],
   "source": [
    "import glob\n",
    "f = glob.glob(\"../../Examples/write_feature_list/Output/make_LUT_0731/*.json\")\n",
    "a = LookupGenerator.combine_LUTs(f)\n",
    "a.display_lookup()"
   ]
  },
  {
   "cell_type": "code",
   "execution_count": null,
   "metadata": {},
   "outputs": [],
   "source": []
  },
  {
   "cell_type": "code",
   "execution_count": null,
   "metadata": {},
   "outputs": [],
   "source": []
  },
  {
   "cell_type": "code",
   "execution_count": null,
   "metadata": {},
   "outputs": [],
   "source": []
  },
  {
   "cell_type": "code",
   "execution_count": null,
   "metadata": {},
   "outputs": [],
   "source": []
  },
  {
   "cell_type": "code",
   "execution_count": null,
   "metadata": {},
   "outputs": [],
   "source": [
    "bins = np.linspace(0,4, 20)\n",
    "\n",
    "plt.hist(np.array(dca)[np.isfinite(dca)], bins, histtype=\"step\", linewidth=4, label=\"old\")\n",
    "plt.hist(dca2, bins, histtype=\"step\", linewidth=4, label=\"new\")\n",
    "plt.legend()"
   ]
  },
  {
   "cell_type": "code",
   "execution_count": null,
   "metadata": {
    "scrolled": false
   },
   "outputs": [],
   "source": [
    "fig = plt.figure(figsize=[10,10])\n",
    "ax=fig.add_subplot(111)\n",
    "disp = CameraDisplay(camera, image)\n",
    "plt.scatter(cam_coord.x.value, cam_coord.y.value, label=\"Direction in cam\")\n",
    "disp.overlay_moments(params, color=\"C1\",linewidth=3, with_label=False, alpha=0.9)\n",
    "\n",
    "dca, x_, y_ = calculate_dca((cam_coord.x, cam_coord.y), params, get_point=True)\n",
    "\n",
    "def line(x, x_, y_, psi_):\n",
    "    y0 = - np.tan(psi_) * x_ + y_\n",
    "    return(np.tan(psi_) * x + y0)\n",
    "\n",
    "x = np.linspace(-0.8, 0, 100)\n",
    "y = line(x, params.x.value, params.y.value, params.psi.to(u.deg))\n",
    "\n",
    "#y2 = line(x, cam_coord.x.value, cam_coord.y.value, 180*u.deg-params.psi.to(u.deg))\n",
    "plt.plot(x,y, color=\"C1\", label=\"Hillas larger semi-axis\", alpha=0.9, linewidth=2)\n",
    "\n",
    "plt.plot([x_.value, cam_coord.x.value], [y_.value, cam_coord.y.value], color=\"C0\", linewidth=3)\n",
    "\n",
    "plt.plot(x_.value, y_.value, color=\"C3\", label=\"Intersection point\", zorder=10, alpha=0.9,\n",
    "         markersize=10, marker=\"^\", linewidth=0)\n",
    "\n",
    "plt.xlim([-1.2,0])\n",
    "plt.ylim([0,1.2])\n",
    "plt.legend(fontsize=20)"
   ]
  },
  {
   "cell_type": "code",
   "execution_count": null,
   "metadata": {},
   "outputs": [],
   "source": []
  },
  {
   "cell_type": "code",
   "execution_count": null,
   "metadata": {},
   "outputs": [],
   "source": [
    "from ctapipe.io.containers import HillasParametersContainer"
   ]
  },
  {
   "cell_type": "code",
   "execution_count": null,
   "metadata": {},
   "outputs": [],
   "source": [
    "HillasParametersContainer()"
   ]
  },
  {
   "cell_type": "code",
   "execution_count": null,
   "metadata": {},
   "outputs": [],
   "source": [
    "from collections import namedtuple"
   ]
  },
  {
   "cell_type": "code",
   "execution_count": null,
   "metadata": {},
   "outputs": [],
   "source": [
    "features = namedtuple(\"dca\", (\n",
    "                \"a\",\n",
    "                \"b\"\n",
    "                ))"
   ]
  },
  {
   "cell_type": "code",
   "execution_count": null,
   "metadata": {},
   "outputs": [],
   "source": [
    "f = features(a = 1,\n",
    "        b = 2)"
   ]
  },
  {
   "cell_type": "code",
   "execution_count": null,
   "metadata": {},
   "outputs": [],
   "source": [
    "f"
   ]
  },
  {
   "cell_type": "code",
   "execution_count": null,
   "metadata": {},
   "outputs": [],
   "source": [
    "[[2]] + [[12]]"
   ]
  },
  {
   "cell_type": "code",
   "execution_count": null,
   "metadata": {},
   "outputs": [],
   "source": [
    "for cam_id in ['LSTCam', 'FlashCam', 'DigiCam']:\n",
    "\tpd.read_hdf('../../Examples/write_feature_list/Output/Multiplicity4_perType/SST4/LUT_keep/output_gamma_20deg_0deg_run1.h5', \"feature_events_{}\".format(cam_id))"
   ]
  },
  {
   "cell_type": "code",
   "execution_count": null,
   "metadata": {},
   "outputs": [],
   "source": []
  },
  {
   "cell_type": "code",
   "execution_count": null,
   "metadata": {},
   "outputs": [],
   "source": []
  },
  {
   "cell_type": "code",
   "execution_count": null,
   "metadata": {},
   "outputs": [],
   "source": []
  },
  {
   "cell_type": "code",
   "execution_count": null,
   "metadata": {},
   "outputs": [],
   "source": []
  },
  {
   "cell_type": "code",
   "execution_count": null,
   "metadata": {},
   "outputs": [],
   "source": []
  },
  {
   "cell_type": "code",
   "execution_count": null,
   "metadata": {},
   "outputs": [],
   "source": [
    "\"\"\"\n",
    "Line-intersection-based fitting.\n",
    "Contact: Tino Michael <Tino.Michael@cea.fr>\n",
    "\"\"\"\n",
    "\n",
    "\n",
    "from ctapipe.reco.reco_algorithms import Reconstructor\n",
    "from ctapipe.io.containers import ReconstructedShowerContainer\n",
    "from ctapipe.coordinates import TiltedGroundFrame, HorizonFrame, CameraFrame\n",
    "from astropy.coordinates import SkyCoord, spherical_to_cartesian, cartesian_to_spherical\n",
    "from itertools import combinations\n",
    "\n",
    "import numpy as np\n",
    "\n",
    "from scipy.optimize import minimize\n",
    "\n",
    "from astropy import units as u\n",
    "\n",
    "\n",
    "__all__ = ['HillasReconstructor', 'TooFewTelescopesException', 'HillasPlane']\n",
    "\n",
    "\n",
    "class TooFewTelescopesException(Exception):\n",
    "    pass\n",
    "\n",
    "\n",
    "def angle(v1, v2):\n",
    "    \"\"\" computes the angle between two vectors\n",
    "        assuming carthesian coordinates\n",
    "    Parameters\n",
    "    ----------\n",
    "    v1 : numpy array\n",
    "    v2 : numpy array\n",
    "    Returns\n",
    "    -------\n",
    "    the angle between v1 and v2 as a dimensioned astropy quantity\n",
    "    \"\"\"\n",
    "    norm = np.linalg.norm(v1) * np.linalg.norm(v2)\n",
    "    return np.arccos(np.clip(v1.dot(v2) / norm, -1.0, 1.0))\n",
    "\n",
    "\n",
    "def normalise(vec):\n",
    "    \"\"\" Sets the length of the vector to 1\n",
    "        without changing its direction\n",
    "    Parameters\n",
    "    ----------\n",
    "    vec : numpy array\n",
    "    Returns\n",
    "    -------\n",
    "    numpy array with the same direction but length of 1\n",
    "    \"\"\"\n",
    "    try:\n",
    "        return vec / np.linalg.norm(vec)\n",
    "    except ZeroDivisionError:\n",
    "        return vec\n",
    "\n",
    "\n",
    "class HillasReconstructor(Reconstructor):\n",
    "    \"\"\"\n",
    "    class that reconstructs the direction of an atmospheric shower\n",
    "    using a simple hillas parametrisation of the camera images it\n",
    "    provides a direction estimate in two steps and an estimate for the\n",
    "    shower's impact position on the ground.\n",
    "    so far, it does neither provide an energy estimator nor an\n",
    "    uncertainty on the reconstructed parameters\n",
    "    \"\"\"\n",
    "\n",
    "    def __init__(self, config=None, tool=None, **kwargs):\n",
    "        super().__init__(config=config, parent=tool, **kwargs)\n",
    "        self.hillas_planes = {}\n",
    "\n",
    "    def predict(self, hillas_dict, inst, pointing_alt, pointing_az, seed_pos=(0, 0)):\n",
    "        \"\"\"The function you want to call for the reconstruction of the\n",
    "        event. It takes care of setting up the event and consecutively\n",
    "        calls the functions for the direction and core position\n",
    "        reconstruction.  Shower parameters not reconstructed by this\n",
    "        class are set to np.nan\n",
    "        Parameters\n",
    "        -----------\n",
    "        hillas_dict : python dictionary\n",
    "            dictionary with telescope IDs as key and\n",
    "            HillasParametersContainer instances as values\n",
    "        inst : ctapipe.io.InstrumentContainer\n",
    "            instrumental description\n",
    "        pointing_alt:\n",
    "        pointing_az:\n",
    "        seed_pos : python tuple\n",
    "            shape (2) tuple with a possible seed for\n",
    "            the core position fit (e.g. CoG of all telescope images)\n",
    "        Raises\n",
    "        ------\n",
    "        TooFewTelescopesException\n",
    "            if len(hillas_dict) < 2\n",
    "        \"\"\"\n",
    "\n",
    "        # stereoscopy needs at least two telescopes\n",
    "        if len(hillas_dict) < 2:\n",
    "            raise TooFewTelescopesException(\n",
    "                \"need at least two telescopes, have {}\"\n",
    "                .format(len(hillas_dict)))\n",
    "\n",
    "        self.inititialize_hillas_planes(\n",
    "            hillas_dict,\n",
    "            inst.subarray,\n",
    "            pointing_alt,\n",
    "            pointing_az\n",
    "        )\n",
    "\n",
    "        # algebraic direction estimate\n",
    "        direction, err_est_dir, crossings = self.estimate_direction()\n",
    "        \n",
    "        # core position estimate using a geometric approach\n",
    "        pos, err_est_pos = self.estimate_core_position()\n",
    "\n",
    "        # container class for reconstructed showers\n",
    "        result = ReconstructedShowerContainer()\n",
    "        _, lat, lon = cartesian_to_spherical(*direction)\n",
    "\n",
    "        # estimate max height of shower\n",
    "        h_max = self.estimate_h_max(hillas_dict, inst.subarray, pointing_alt, pointing_az)\n",
    "\n",
    "\n",
    "        result.alt, result.az = lat, lon\n",
    "        result.core_x = pos[0]\n",
    "        result.core_y = pos[1]\n",
    "        result.core_uncert = err_est_pos\n",
    "\n",
    "        result.tel_ids = [h for h in hillas_dict.keys()]\n",
    "        result.average_size = np.mean([h.intensity for h in hillas_dict.values()])\n",
    "        result.is_valid = True\n",
    "\n",
    "        result.alt_uncert = err_est_dir\n",
    "        result.az_uncert = np.nan\n",
    "\n",
    "        result.h_max = h_max\n",
    "        result.h_max_uncert = np.nan\n",
    "\n",
    "        result.goodness_of_fit = np.nan\n",
    "\n",
    "        return result, crossings\n",
    "\n",
    "    def inititialize_hillas_planes(\n",
    "        self,\n",
    "        hillas_dict,\n",
    "        subarray,\n",
    "        pointing_alt,\n",
    "        pointing_az\n",
    "    ):\n",
    "        \"\"\"\n",
    "        creates a dictionary of :class:`.HillasPlane` from a dictionary of\n",
    "        hillas\n",
    "        parameters\n",
    "        Parameters\n",
    "        ----------\n",
    "        hillas_dict : dictionary\n",
    "            dictionary of hillas moments\n",
    "        subarray : ctapipe.instrument.SubarrayDescription\n",
    "            subarray information\n",
    "        tel_phi, tel_theta : dictionaries\n",
    "            dictionaries of the orientation angles of the telescopes\n",
    "            needs to contain at least the same keys as in `hillas_dict`\n",
    "        \"\"\"\n",
    "\n",
    "        self.hillas_planes = {}\n",
    "        for tel_id, moments in hillas_dict.items():\n",
    "            p2_x = moments.x + 0.1 * u.m * np.cos(moments.psi)\n",
    "            p2_y = moments.y + 0.1 * u.m * np.sin(moments.psi)\n",
    "            focal_length = subarray.tel[tel_id].optics.equivalent_focal_length\n",
    "\n",
    "            pointing = SkyCoord(\n",
    "                alt=pointing_alt[tel_id],\n",
    "                az=pointing_az[tel_id],\n",
    "                frame='altaz'\n",
    "            )\n",
    "\n",
    "            hf = HorizonFrame(\n",
    "                array_direction=pointing,\n",
    "                pointing_direction=pointing\n",
    "            )\n",
    "            cf = CameraFrame(\n",
    "                focal_length=focal_length,\n",
    "                array_direction=pointing,\n",
    "                pointing_direction=pointing\n",
    "            )\n",
    "\n",
    "            cog_coord = SkyCoord(x=moments.x, y=moments.y, frame=cf)\n",
    "            cog_coord = cog_coord.transform_to(hf)\n",
    "\n",
    "            p2_coord = SkyCoord(x=p2_x, y=p2_y, frame=cf)\n",
    "            p2_coord = p2_coord.transform_to(hf)\n",
    "\n",
    "            circle = HillasPlane(\n",
    "                p1=cog_coord,\n",
    "                p2=p2_coord,\n",
    "                telescope_position=subarray.positions[tel_id],\n",
    "                weight=moments.intensity * (moments.length / moments.width),\n",
    "            )\n",
    "            self.hillas_planes[tel_id] = circle\n",
    "\n",
    "    def estimate_direction(self):\n",
    "        \"\"\"calculates the origin of the gamma as the weighted average\n",
    "        direction of the intersections of all hillas planes\n",
    "        Returns\n",
    "        -------\n",
    "        gamma : shape (3) numpy array\n",
    "            direction of origin of the reconstructed shower as a 3D vector\n",
    "        crossings : shape (n,3) list\n",
    "            an error esimate\n",
    "        \"\"\"\n",
    "\n",
    "        crossings = []\n",
    "        for perm in combinations(self.hillas_planes.values(), 2):\n",
    "            n1, n2 = perm[0].norm, perm[1].norm\n",
    "            # cross product automatically weighs in the angle between\n",
    "            # the two vectors: narrower angles have less impact,\n",
    "            # perpendicular vectors have the most\n",
    "            crossing = np.cross(n1, n2)\n",
    "            # two great circles cross each other twice (one would be\n",
    "            # the origin, the other one the direction of the gamma) it\n",
    "            # doesn't matter which we pick but it should at least be\n",
    "            # consistent: make sure to always take the \"upper\" solution\n",
    "            if crossing[2] < 0:\n",
    "                crossing *= -1\n",
    "\n",
    "            crossings.append(crossing * perm[0].weight * perm[1].weight)\n",
    "            \n",
    "        result = normalise(np.sum(crossings, axis=0))\n",
    "        off_angles = [angle(result, cross) for cross in crossings] * u.rad\n",
    "\n",
    "        err_est_dir = np.average(\n",
    "            off_angles,\n",
    "            weights=[len(cross) for cross in crossings]\n",
    "        )\n",
    "\n",
    "        return result, err_est_dir, crossings\n",
    "\n",
    "\n",
    "\n",
    "    def estimate_core_position(self):\n",
    "        r\"\"\"calculates the core position as the least linear square solution\n",
    "        of an (over-constrained) equation system\n",
    "        Notes\n",
    "        -----\n",
    "        The basis is the \"trace\" of each telescope's `HillasPlane` which\n",
    "        can be determined by the telescope's position P=(Px, Py) and\n",
    "        the circle's normal vector, projected to the ground n=(nx,\n",
    "        ny), so that for every r=(x, y) on the trace\n",
    "        :math:`\\vec n \\cdot \\vec r = \\vec n \\cdot \\vec P` ,\n",
    "        :math:`n_x \\cdot x + n_y \\cdot y = d`\n",
    "        In a perfect world, the traces of all telescopes cross in the\n",
    "        shower's point of impact. This means that there is one common\n",
    "        point (x, y) for every telescope, so we can write in matrix\n",
    "        form:\n",
    "        .. math::\n",
    "            :label: fullmatrix\n",
    "            \\begin{pmatrix}\n",
    "                nx_1  &  ny_1  \\\\\n",
    "                \\vdots & \\vdots \\\\\n",
    "                nx_n  &  ny_n\n",
    "            \\end{pmatrix}\n",
    "                \\cdot (x, y) =\n",
    "            \\begin{pmatrix}\n",
    "                d_1  \\\\\n",
    "                \\vdots \\\\\n",
    "                d_n\n",
    "            \\end{pmatrix}\n",
    "        or :math:`\\boldsymbol{A} \\cdot \\vec r = \\vec D` .\n",
    "        Since we do not live in a perfect world and there probably is\n",
    "        no point r that fulfils this equation system, it is solved by\n",
    "        the method of least linear square:\n",
    "        .. math::\n",
    "            :label: rchisqr\n",
    "            \\vec{r}_{\\chi^2} = (\\boldsymbol{A}^\\text{T} \\cdot \\boldsymbol{A})^{-1}\n",
    "            \\boldsymbol{A}^\\text{T} \\cdot \\vec D\n",
    "        :math:`\\vec{r}_{\\chi^2}` minimises the squared difference of\n",
    "        .. math::\n",
    "            \\vec D - \\boldsymbol{A} \\cdot \\vec r\n",
    "        Weights are applied to every line of equation :eq:`fullmatrix`\n",
    "        as stored in circle.weight (assuming they have been set in\n",
    "        `get_great_circles` or elsewhere).\n",
    "        Returns\n",
    "        -------\n",
    "        r_chisqr: numpy.ndarray(2)\n",
    "            the minimum :math:`\\chi^2` solution for the shower impact position\n",
    "        pos_uncert: astropy length quantity\n",
    "            error estimate on the reconstructed core position\n",
    "        \"\"\"\n",
    "\n",
    "        A = np.zeros((len(self.hillas_planes), 2))\n",
    "        D = np.zeros(len(self.hillas_planes))\n",
    "        for i, circle in enumerate(self.hillas_planes.values()):\n",
    "            # apply weight from circle and from the tilt of the circle\n",
    "            # towards the horizontal plane: simply projecting\n",
    "            # circle.norm to the ground gives higher weight to planes\n",
    "            # perpendicular to the ground and less to those that have\n",
    "            # a steeper angle\n",
    "            A[i] = circle.weight * circle.norm[:2]\n",
    "            # since A[i] is used in the dot-product, no need to multiply the\n",
    "            # weight here\n",
    "            D[i] = np.dot(A[i], circle.pos[:2])\n",
    "\n",
    "        # the math from equation (2) would look like this:\n",
    "        # ATA = np.dot(A.T, A)\n",
    "        # ATAinv = np.linalg.inv(ATA)\n",
    "        # ATAinvAT = np.dot(ATAinv, A.T)\n",
    "        # return np.dot(ATAinvAT, D) * unit\n",
    "\n",
    "        # instead used directly the numpy implementation\n",
    "        # speed is the same, just handles already \"SingularMatrixError\"\n",
    "        if np.all(np.isfinite(A)) and np.all(np.isfinite(D)):\n",
    "            # note that NaN values create a value error with MKL\n",
    "            # installations but not otherwise.\n",
    "            pos = np.linalg.lstsq(A, D)[0] * u.m\n",
    "        else:\n",
    "            return [np.nan, np.nan], [np.nan, np.nan]\n",
    "\n",
    "        weighted_sum_dist = np.sum([np.dot(pos[:2] - c.pos[:2], c.norm[:2]) * c.weight\n",
    "                                    for c in self.hillas_planes.values()]) * pos.unit\n",
    "        norm_sum_dist = np.sum([c.weight * np.linalg.norm(c.norm[:2])\n",
    "                                for c in self.hillas_planes.values()])\n",
    "        pos_uncert = abs(weighted_sum_dist / norm_sum_dist)\n",
    "\n",
    "        return pos, pos_uncert\n",
    "\n",
    "\n",
    "\n",
    "    def estimate_h_max(self, hillas_dict, subarray, pointing_alt, pointing_az):\n",
    "        weights = []\n",
    "        tels = []\n",
    "        dirs = []\n",
    "\n",
    "        for tel_id, moments in hillas_dict.items():\n",
    "\n",
    "            focal_length = subarray.tel[tel_id].optics.equivalent_focal_length\n",
    "\n",
    "            pointing = SkyCoord(\n",
    "                alt=pointing_alt[tel_id],\n",
    "                az=pointing_az[tel_id],\n",
    "                frame='altaz'\n",
    "            )\n",
    "\n",
    "            hf = HorizonFrame(\n",
    "                array_direction=pointing,\n",
    "                pointing_direction=pointing\n",
    "            )\n",
    "            cf = CameraFrame(\n",
    "                focal_length=focal_length,\n",
    "                array_direction=pointing,\n",
    "                pointing_direction=pointing\n",
    "            )\n",
    "\n",
    "            cog_coord = SkyCoord(x=moments.x, y=moments.y, frame=cf)\n",
    "            cog_coord = cog_coord.transform_to(hf)\n",
    "\n",
    "            cog_direction = spherical_to_cartesian(1, cog_coord.alt, cog_coord.az)\n",
    "            cog_direction = np.array(cog_direction).ravel()\n",
    "\n",
    "            weights.append(self.hillas_planes[tel_id].weight)\n",
    "            tels.append(self.hillas_planes[tel_id].pos)\n",
    "            dirs.append(cog_direction)\n",
    "\n",
    "        # minimising the test function\n",
    "        pos_max = minimize(dist_to_line3d, np.array([0, 0, 10000]),\n",
    "                           args=(np.array(tels), np.array(dirs), np.array(weights)),\n",
    "                           method='BFGS',\n",
    "                           options={'disp': False}\n",
    "                           ).x\n",
    "        return pos_max[2] * u.m\n",
    "\n",
    "\n",
    "def dist_to_line3d(pos, tels, dirs, weights):\n",
    "    result = np.average(np.linalg.norm(np.cross((pos - tels), dirs), axis=1),\n",
    "                        weights=weights)\n",
    "    return result\n",
    "\n",
    "\n",
    "class HillasPlane:\n",
    "    \"\"\"\n",
    "    a tiny helper class to collect some parameters for each great great\n",
    "    circle\n",
    "    Stores some vectors a, b, and c\n",
    "    These vectors are eucledian [x, y, z] where positive z values point towards the sky\n",
    "    and x and y are parallel to the ground.\n",
    "    \"\"\"\n",
    "\n",
    "    def __init__(self, p1, p2, telescope_position, weight=1):\n",
    "        \"\"\"The constructor takes two coordinates in the horizontal\n",
    "        frame (alt, az) which define a plane perpedicular\n",
    "        to the camera.\n",
    "        Parameters\n",
    "        -----------\n",
    "        p1: astropy.coordinates.SkyCoord\n",
    "            One of two direction vectors which define the plane.\n",
    "            This coordinate has to be defined in the ctapipe.coordinates.HorizonFrame\n",
    "        p2: astropy.coordinates.SkyCoord\n",
    "            One of two direction vectors which define the plane.\n",
    "            This coordinate has to be defined in the ctapipe.coordinates.HorizonFrame\n",
    "        telescope_position: np.array(3)\n",
    "            Position of the telescope on the ground\n",
    "        weight : float, optional\n",
    "            weight of this plane for later use during the reconstruction\n",
    "        Notes\n",
    "        -----\n",
    "        c: numpy.ndarray(3)\n",
    "            :math:`\\vec c = (\\vec a \\times \\vec b) \\times \\vec a`\n",
    "            :math:`\\rightarrow` a and c form an orthogonal base for the\n",
    "            great circle\n",
    "            (only orthonormal if a and b are of unit-length)\n",
    "        norm: numpy.ndarray(3)\n",
    "            normal vector of the circle's plane,\n",
    "            perpendicular to a, b and c\n",
    "        \"\"\"\n",
    "\n",
    "        self.pos = telescope_position\n",
    "\n",
    "        self.a = np.array(spherical_to_cartesian(1, p1.alt, p1.az)).ravel()\n",
    "        self.b = np.array(spherical_to_cartesian(1, p2.alt, p2.az)).ravel()\n",
    "\n",
    "        # a and c form an orthogonal basis for the great circle\n",
    "        # not really necessary since the norm can be calculated\n",
    "        # with a and b just as well\n",
    "        self.c = np.cross(np.cross(self.a, self.b), self.a)\n",
    "        # normal vector for the plane defined by the great circle\n",
    "        self.norm = normalise(np.cross(self.a, self.c))\n",
    "        # some weight for this circle\n",
    "        # (put e.g. uncertainty on the Hillas parameters\n",
    "        # or number of PE in here)\n",
    "        self.weight = weight"
   ]
  },
  {
   "cell_type": "code",
   "execution_count": null,
   "metadata": {},
   "outputs": [],
   "source": [
    "from ctapipe.coordinates import CameraFrame, HorizonFrame\n",
    "from astropy.coordinates import SkyCoord\n",
    "\n",
    "from ctapipe.visualization import CameraDisplay   # plot camera images\n",
    "from ctapipe.io import event_source               # read rata\n",
    "from ctapipe.calib import CameraCalibrator        # calibration from r0 to dl1\n",
    "from ctapipe.calib.camera.gainselection import pick_gain_channel # gain selection\n",
    "from ctapipe.image.cleaning import tailcuts_clean # image cleaning\n",
    "from ctapipe.image import hillas_parameters       # parametrization\n",
    "from traitlets.config import Config               # handeling of configurations\n",
    "from ctapipe.io import EventSeeker\n",
    "import pickle"
   ]
  },
  {
   "cell_type": "markdown",
   "metadata": {},
   "source": [
    "# Analyze one file"
   ]
  },
  {
   "cell_type": "code",
   "execution_count": null,
   "metadata": {},
   "outputs": [],
   "source": [
    "calibrator_cfg = Config()\n",
    "calibrator_cfg[\"ChargeExtractorFactory\"][\"product\"] = \"LocalPeakIntegrator\" # peak detection method\n",
    "calibrator_cfg['WaveformCleanerFactory']['product'] = \"NullWaveformCleaner\" # waveform cleaning\n",
    "calibrator_cfg[\"ChargeExtractorFactory\"][\"window_width\"] = 7 # width of integration window\n",
    "calibrator_cfg[\"ChargeExtractorFactory\"][\"window_shift\"] = 3 # shift of integration window\n",
    "\n",
    "calibrator = CameraCalibrator(r1_product=\"HESSIOR1Calibrator\", config=calibrator_cfg)\n",
    "\n",
    "# Thresholds for gain channel selection\n",
    "pe_thresh = {\n",
    "    \"ASTRICam\": 14,\n",
    "    \"LSTCam\": 100,\n",
    "    \"NectarCam\": 190}"
   ]
  },
  {
   "cell_type": "code",
   "execution_count": null,
   "metadata": {},
   "outputs": [],
   "source": [
    "import warnings\n",
    "# some conflicts with numpy in HillasReconstructor (?)\n",
    "# it should not spam the output:\n",
    "warnings.simplefilter(action='ignore', category=FutureWarning)\n",
    "# mouting RuntimeWarning for np.sqrt calculation\n",
    "warnings.simplefilter(action='ignore', category=RuntimeWarning)"
   ]
  },
  {
   "cell_type": "raw",
   "metadata": {},
   "source": [
    "from ctapipe.reco.HillasReconstructor import \\\n",
    "\tHillasReconstructor, TooFewTelescopesException  # direction reconstruction\n",
    "\n",
    "import warnings\n",
    "# some conflicts with numpy in HillasReconstructor (?)\n",
    "# it should not spam the output:\n",
    "warnings.simplefilter(action='ignore', category=FutureWarning)\n",
    "# mouting RuntimeWarning for np.sqrt calculation\n",
    "warnings.simplefilter(action='ignore', category=RuntimeWarning)"
   ]
  },
  {
   "cell_type": "code",
   "execution_count": null,
   "metadata": {},
   "outputs": [],
   "source": [
    "from ctapipe.image.hillas import *"
   ]
  },
  {
   "cell_type": "code",
   "execution_count": null,
   "metadata": {
    "scrolled": false
   },
   "outputs": [],
   "source": [
    "source = event_source(\"/Users/konstantinpfrang/CTAPIPE/gamma_onSource/\\\n",
    "gamma_20deg_180deg_run1___cta-prod3_desert-2150m-Paranal-merged.simtel.gz\",\n",
    "                     max_events=500)\n",
    "\n",
    "\n",
    "\n",
    "lookupdata = {}\n",
    "columns = [\"dca\", \"length\", \"width\", \"intensity\"]\n",
    "\n",
    "hillas_dict = {}\n",
    "true_az = {}\n",
    "true_alt = {}\n",
    "not_reconstructed = 0\n",
    "failed = {1: 0,\n",
    "         2: 0,\n",
    "         3: 0,\n",
    "         4: 0,\n",
    "         5: 0}\n",
    "intensity = []\n",
    "energy_failed = []\n",
    "#for event in source:\n",
    "\n",
    "#seeker = EventSeeker(source)\n",
    "#event = seeker[10]\n",
    "\n",
    "for event in source:  \n",
    "    reconstructor = HillasReconstructor()\n",
    "    hillas_dict = {}\n",
    "    calibrator.calibrate(event)\n",
    "\n",
    "    for tel_id in event.r0.tels_with_data:\n",
    "\n",
    "        camera = event.inst.subarray.tel[tel_id].camera\n",
    "\n",
    "        if camera.cam_id in pe_thresh.keys():\n",
    "            image, mask = pick_gain_channel(event.dl1.tel[tel_id].image,\n",
    "                      pe_thresh[camera.cam_id], select_by_sample=True)\n",
    "        else:\n",
    "            image = np.squeeze(event.dl1.tel[tel_id].image)\n",
    "\n",
    "        mask = tailcuts_clean(camera, image=image,\n",
    "            min_number_picture_neighbors=2)\n",
    "\n",
    "        if sum(mask) == 0:\n",
    "            continue\n",
    "        cleaned_image = np.copy(image) # copy of image\n",
    "        cleaned_image[~mask] = 0 # setting not survived pixels to zero\n",
    "        \n",
    "        \n",
    "        for i, hillas_parameters in enumerate([hillas_parameters_4,\n",
    "                          #hillas_parameters_2,\n",
    "                          #hillas_parameters_3,\n",
    "                          #hillas_parameters_4,\n",
    "                              #hillas_parameters_5\n",
    "                                              ]):\n",
    "            try:\n",
    "                params = hillas_parameters(camera, cleaned_image)\n",
    "            except HillasParameterizationError:\n",
    "                print(\"hillas_parameters_{}\".format(4))\n",
    "                print(\"failed\")\n",
    "\n",
    "\n",
    "            if np.isnan(params.width) or (params.width == 0.0 * u.m):\n",
    "                not_reconstructed += 1\n",
    "                print(\"hillas_parameters_{}\".format(i+1))\n",
    "                print(\"size: \", params.intensity)\n",
    "                print(\"length: \", params.length)\n",
    "                print(\"width: \", params.width)\n",
    "\n",
    "                fig = plt.figure(figsize=[4,4])\n",
    "                disp = CameraDisplay(camera, cleaned_image)\n",
    "                disp.overlay_moments(params, color=\"r\")\n",
    "                disp.highlight_pixels(np.ones(len(mask), dtype=bool), color=\"w\", alpha=0.5)\n",
    "                xlim = [params.x /u.m - 0.1 , params.x/u.m + 0.1]\n",
    "                plt.xlim(xlim)\n",
    "                ylim = [params.y/u.m - 0.1 , params.y/u.m + 0.1]\n",
    "                plt.ylim(ylim)\n",
    "                #plt.show()\n",
    "                intensity.append(params.intensity)\n",
    "\n",
    "        hillas_dict[tel_id] = params\n",
    "        true_az[tel_id] = event.mc.tel[tel_id].azimuth_raw * u.rad\n",
    "        true_alt[tel_id] = event.mc.tel[tel_id].altitude_raw * u.rad\n",
    "        \n",
    "    try:\n",
    "        reco_result = reconstructor.predict(hillas_dict,\n",
    "                event.inst, true_alt, true_az)\n",
    "    except TooFewTelescopesException:\n",
    "        continue\n",
    "\n",
    "\n"
   ]
  },
  {
   "cell_type": "code",
   "execution_count": null,
   "metadata": {},
   "outputs": [],
   "source": [
    "not_reconstructed"
   ]
  },
  {
   "cell_type": "code",
   "execution_count": null,
   "metadata": {},
   "outputs": [],
   "source": [
    "np.array([0]*len(mask))"
   ]
  },
  {
   "cell_type": "code",
   "execution_count": null,
   "metadata": {},
   "outputs": [],
   "source": [
    "camera = event.inst.subarray.tel[tel_id].camera"
   ]
  },
  {
   "cell_type": "code",
   "execution_count": null,
   "metadata": {},
   "outputs": [],
   "source": [
    "params.x"
   ]
  }
 ],
 "metadata": {
  "kernelspec": {
   "display_name": "Python 3",
   "language": "python",
   "name": "python3"
  },
  "language_info": {
   "codemirror_mode": {
    "name": "ipython",
    "version": 3
   },
   "file_extension": ".py",
   "mimetype": "text/x-python",
   "name": "python",
   "nbconvert_exporter": "python",
   "pygments_lexer": "ipython3",
   "version": "3.6.4"
  }
 },
 "nbformat": 4,
 "nbformat_minor": 2
}
